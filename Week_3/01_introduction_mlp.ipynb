{
  "cells": [
    {
      "cell_type": "markdown",
      "metadata": {
        "id": "view-in-github",
        "colab_type": "text"
      },
      "source": [
        "<a href=\"https://colab.research.google.com/github/JaredKeithAveritt/AI_methods_in_advanced_materials_research/blob/main/Week_3/01_introduction_mlp.ipynb\" target=\"_parent\"><img src=\"https://colab.research.google.com/assets/colab-badge.svg\" alt=\"Open In Colab\"/></a>"
      ]
    },
    {
      "cell_type": "markdown",
      "metadata": {
        "id": "Mx7cDCvdc0pW"
      },
      "source": [
        "# MNIST handwritten digits classification with MLPs, by hand"
      ]
    },
    {
      "cell_type": "markdown",
      "metadata": {
        "id": "jQujp7ABc0pX"
      },
      "source": []
    },
    {
      "cell_type": "markdown",
      "metadata": {
        "id": "3dGjSfQsc0pY"
      },
      "source": [
        "## Goal of notebook:"
      ]
    },
    {
      "cell_type": "markdown",
      "metadata": {
        "id": "DiaIYSfvc0pY"
      },
      "source": [
        "In this notebook, we'll train a multi-layer perceptron model (a basic kind of neural network) to classify handwritten digits. We'll build up the code by hand. Next week, we show how this can be done using existing Python libraries."
      ]
    },
    {
      "cell_type": "markdown",
      "metadata": {
        "id": "KbWvJNJRc0pY"
      },
      "source": [
        "## Machine learning task:"
      ]
    },
    {
      "cell_type": "markdown",
      "metadata": {
        "id": "ikkk9vI4c0pY"
      },
      "source": [
        "This tutorial works through a supervised learning problem, specifically classification.\n",
        "\n",
        "Imagine you are making a machine for the post office that will automatically sort mail by zip code. The MNIST dataset contains thousands of examples of handwritten numbers, with each digit labeled 0-9. We will use deep learning to create a function that classifies each image of one number as a digit 0-9.\n",
        "<img src=\"https://github.com/JaredKeithAveritt/AI_methods_in_advanced_materials_research/blob/main/Week_3/images/mnist_task.png?raw=1\"  align=\"left\"/>"
      ]
    },
    {
      "cell_type": "markdown",
      "metadata": {
        "id": "9stU9Bl6c0pY"
      },
      "source": [
        "First, the needed imports."
      ]
    },
    {
      "cell_type": "code",
      "execution_count": 49,
      "metadata": {
        "id": "J7KJrR-9c0pZ"
      },
      "outputs": [],
      "source": [
        "%matplotlib inline\n",
        "\n",
        "import tensorflow as tf\n",
        "\n",
        "import numpy\n",
        "import matplotlib.pyplot as plt\n",
        "\n",
        "import pandas as pd\n",
        "# Set pandas display option to show all columns without truncation\n",
        "pd.set_option(\"display.max_columns\", None)"
      ]
    },
    {
      "cell_type": "markdown",
      "metadata": {
        "id": "nq7XGnDxc0pZ"
      },
      "source": [
        "## MNIST data set"
      ]
    },
    {
      "cell_type": "markdown",
      "metadata": {
        "id": "4CAEIQbxc0pZ"
      },
      "source": [
        "Next we'll load the MNIST handwritten digits data set. The first time we may have to download the data, which can take a while.\n",
        "\n",
        "<img src=\"https://github.com/JaredKeithAveritt/AI_methods_in_advanced_materials_research/blob/main/Week_3/images/MnistExamples.png?raw=1\"  align=\"left\"/>"
      ]
    },
    {
      "cell_type": "markdown",
      "metadata": {
        "id": "sIuZMK6wc0pZ"
      },
      "source": [
        "MNIST is a popular dataset, so we can download it via the TensorFlow library. Note:\n",
        "- x is for the inputs (images of handwritten digits) and y is for the labels or outputs (digits 0-9)\n",
        "- We are given \"training\" and \"test\" datasets. Training datasets are used to fit the model. Test datasets are saved until the end, when we are satisfied with our model, to estimate how well our model generalizes to new data."
      ]
    },
    {
      "cell_type": "code",
      "execution_count": 95,
      "metadata": {
        "id": "BPA4Ui7tc0pa",
        "outputId": "b828ce09-4098-428c-d6ad-f4d4e58b2551",
        "colab": {
          "base_uri": "https://localhost:8080/",
          "height": 934
        }
      },
      "outputs": [
        {
          "output_type": "stream",
          "name": "stdout",
          "text": [
            "1st y_value: 7\n"
          ]
        },
        {
          "output_type": "execute_result",
          "data": {
            "text/plain": [
              "    0   1   2   3   4   5    6    7    8    9    10   11   12   13   14   15  \\\n",
              "0    0   0   0   0   0   0    0    0    0    0    0    0    0    0    0    0   \n",
              "1    0   0   0   0   0   0    0    0    0    0    0    0    0    0    0    0   \n",
              "2    0   0   0   0   0   0    0    0    0    0    0    0    0    0    0    0   \n",
              "3    0   0   0   0   0   0    0    0    0    0    0    0    0    0    0    0   \n",
              "4    0   0   0   0   0   0    0    0    0    0    0    0    0    0    0    0   \n",
              "5    0   0   0   0   0   0    0    0    0    0    0    0    0    0    0    0   \n",
              "6    0   0   0   0   0   0    0    0    0    0    0    0    0    0    0    0   \n",
              "7    0   0   0   0   0   0   84  185  159  151   60   36    0    0    0    0   \n",
              "8    0   0   0   0   0   0  222  254  254  254  254  241  198  198  198  198   \n",
              "9    0   0   0   0   0   0   67  114   72  114  163  227  254  225  254  254   \n",
              "10   0   0   0   0   0   0    0    0    0    0    0   17   66   14   67   67   \n",
              "11   0   0   0   0   0   0    0    0    0    0    0    0    0    0    0    0   \n",
              "12   0   0   0   0   0   0    0    0    0    0    0    0    0    0    0    0   \n",
              "13   0   0   0   0   0   0    0    0    0    0    0    0    0    0    0    0   \n",
              "14   0   0   0   0   0   0    0    0    0    0    0    0    0    0    0    0   \n",
              "15   0   0   0   0   0   0    0    0    0    0    0    0    0    0    0    0   \n",
              "16   0   0   0   0   0   0    0    0    0    0    0    0    0    0    0    9   \n",
              "17   0   0   0   0   0   0    0    0    0    0    0    0    0    0    0  126   \n",
              "18   0   0   0   0   0   0    0    0    0    0    0    0    0    0   75  251   \n",
              "19   0   0   0   0   0   0    0    0    0    0    0    0    0   19  221  254   \n",
              "20   0   0   0   0   0   0    0    0    0    0    0    0    3  203  254  219   \n",
              "21   0   0   0   0   0   0    0    0    0    0    0    0   38  254  254   77   \n",
              "22   0   0   0   0   0   0    0    0    0    0    0   31  224  254  115    1   \n",
              "23   0   0   0   0   0   0    0    0    0    0    0  133  254  254   52    0   \n",
              "24   0   0   0   0   0   0    0    0    0    0   61  242  254  254   52    0   \n",
              "25   0   0   0   0   0   0    0    0    0    0  121  254  254  219   40    0   \n",
              "26   0   0   0   0   0   0    0    0    0    0  121  254  207   18    0    0   \n",
              "27   0   0   0   0   0   0    0    0    0    0    0    0    0    0    0    0   \n",
              "\n",
              "     16   17   18   19   20   21  22  23  24  25  26  27  \n",
              "0     0    0    0    0    0    0   0   0   0   0   0   0  \n",
              "1     0    0    0    0    0    0   0   0   0   0   0   0  \n",
              "2     0    0    0    0    0    0   0   0   0   0   0   0  \n",
              "3     0    0    0    0    0    0   0   0   0   0   0   0  \n",
              "4     0    0    0    0    0    0   0   0   0   0   0   0  \n",
              "5     0    0    0    0    0    0   0   0   0   0   0   0  \n",
              "6     0    0    0    0    0    0   0   0   0   0   0   0  \n",
              "7     0    0    0    0    0    0   0   0   0   0   0   0  \n",
              "8   198  198  198  198  170   52   0   0   0   0   0   0  \n",
              "9   254  250  229  254  254  140   0   0   0   0   0   0  \n",
              "10   67   59   21  236  254  106   0   0   0   0   0   0  \n",
              "11    0    0   83  253  209   18   0   0   0   0   0   0  \n",
              "12    0   22  233  255   83    0   0   0   0   0   0   0  \n",
              "13    0  129  254  238   44    0   0   0   0   0   0   0  \n",
              "14   59  249  254   62    0    0   0   0   0   0   0   0  \n",
              "15  133  254  187    5    0    0   0   0   0   0   0   0  \n",
              "16  205  248   58    0    0    0   0   0   0   0   0   0  \n",
              "17  254  182    0    0    0    0   0   0   0   0   0   0  \n",
              "18  240   57    0    0    0    0   0   0   0   0   0   0  \n",
              "19  166    0    0    0    0    0   0   0   0   0   0   0  \n",
              "20   35    0    0    0    0    0   0   0   0   0   0   0  \n",
              "21    0    0    0    0    0    0   0   0   0   0   0   0  \n",
              "22    0    0    0    0    0    0   0   0   0   0   0   0  \n",
              "23    0    0    0    0    0    0   0   0   0   0   0   0  \n",
              "24    0    0    0    0    0    0   0   0   0   0   0   0  \n",
              "25    0    0    0    0    0    0   0   0   0   0   0   0  \n",
              "26    0    0    0    0    0    0   0   0   0   0   0   0  \n",
              "27    0    0    0    0    0    0   0   0   0   0   0   0  "
            ],
            "text/html": [
              "\n",
              "  <div id=\"df-24b3eb35-2241-4481-9705-346ce4da681d\" class=\"colab-df-container\">\n",
              "    <div>\n",
              "<style scoped>\n",
              "    .dataframe tbody tr th:only-of-type {\n",
              "        vertical-align: middle;\n",
              "    }\n",
              "\n",
              "    .dataframe tbody tr th {\n",
              "        vertical-align: top;\n",
              "    }\n",
              "\n",
              "    .dataframe thead th {\n",
              "        text-align: right;\n",
              "    }\n",
              "</style>\n",
              "<table border=\"1\" class=\"dataframe\">\n",
              "  <thead>\n",
              "    <tr style=\"text-align: right;\">\n",
              "      <th></th>\n",
              "      <th>0</th>\n",
              "      <th>1</th>\n",
              "      <th>2</th>\n",
              "      <th>3</th>\n",
              "      <th>4</th>\n",
              "      <th>5</th>\n",
              "      <th>6</th>\n",
              "      <th>7</th>\n",
              "      <th>8</th>\n",
              "      <th>9</th>\n",
              "      <th>10</th>\n",
              "      <th>11</th>\n",
              "      <th>12</th>\n",
              "      <th>13</th>\n",
              "      <th>14</th>\n",
              "      <th>15</th>\n",
              "      <th>16</th>\n",
              "      <th>17</th>\n",
              "      <th>18</th>\n",
              "      <th>19</th>\n",
              "      <th>20</th>\n",
              "      <th>21</th>\n",
              "      <th>22</th>\n",
              "      <th>23</th>\n",
              "      <th>24</th>\n",
              "      <th>25</th>\n",
              "      <th>26</th>\n",
              "      <th>27</th>\n",
              "    </tr>\n",
              "  </thead>\n",
              "  <tbody>\n",
              "    <tr>\n",
              "      <th>0</th>\n",
              "      <td>0</td>\n",
              "      <td>0</td>\n",
              "      <td>0</td>\n",
              "      <td>0</td>\n",
              "      <td>0</td>\n",
              "      <td>0</td>\n",
              "      <td>0</td>\n",
              "      <td>0</td>\n",
              "      <td>0</td>\n",
              "      <td>0</td>\n",
              "      <td>0</td>\n",
              "      <td>0</td>\n",
              "      <td>0</td>\n",
              "      <td>0</td>\n",
              "      <td>0</td>\n",
              "      <td>0</td>\n",
              "      <td>0</td>\n",
              "      <td>0</td>\n",
              "      <td>0</td>\n",
              "      <td>0</td>\n",
              "      <td>0</td>\n",
              "      <td>0</td>\n",
              "      <td>0</td>\n",
              "      <td>0</td>\n",
              "      <td>0</td>\n",
              "      <td>0</td>\n",
              "      <td>0</td>\n",
              "      <td>0</td>\n",
              "    </tr>\n",
              "    <tr>\n",
              "      <th>1</th>\n",
              "      <td>0</td>\n",
              "      <td>0</td>\n",
              "      <td>0</td>\n",
              "      <td>0</td>\n",
              "      <td>0</td>\n",
              "      <td>0</td>\n",
              "      <td>0</td>\n",
              "      <td>0</td>\n",
              "      <td>0</td>\n",
              "      <td>0</td>\n",
              "      <td>0</td>\n",
              "      <td>0</td>\n",
              "      <td>0</td>\n",
              "      <td>0</td>\n",
              "      <td>0</td>\n",
              "      <td>0</td>\n",
              "      <td>0</td>\n",
              "      <td>0</td>\n",
              "      <td>0</td>\n",
              "      <td>0</td>\n",
              "      <td>0</td>\n",
              "      <td>0</td>\n",
              "      <td>0</td>\n",
              "      <td>0</td>\n",
              "      <td>0</td>\n",
              "      <td>0</td>\n",
              "      <td>0</td>\n",
              "      <td>0</td>\n",
              "    </tr>\n",
              "    <tr>\n",
              "      <th>2</th>\n",
              "      <td>0</td>\n",
              "      <td>0</td>\n",
              "      <td>0</td>\n",
              "      <td>0</td>\n",
              "      <td>0</td>\n",
              "      <td>0</td>\n",
              "      <td>0</td>\n",
              "      <td>0</td>\n",
              "      <td>0</td>\n",
              "      <td>0</td>\n",
              "      <td>0</td>\n",
              "      <td>0</td>\n",
              "      <td>0</td>\n",
              "      <td>0</td>\n",
              "      <td>0</td>\n",
              "      <td>0</td>\n",
              "      <td>0</td>\n",
              "      <td>0</td>\n",
              "      <td>0</td>\n",
              "      <td>0</td>\n",
              "      <td>0</td>\n",
              "      <td>0</td>\n",
              "      <td>0</td>\n",
              "      <td>0</td>\n",
              "      <td>0</td>\n",
              "      <td>0</td>\n",
              "      <td>0</td>\n",
              "      <td>0</td>\n",
              "    </tr>\n",
              "    <tr>\n",
              "      <th>3</th>\n",
              "      <td>0</td>\n",
              "      <td>0</td>\n",
              "      <td>0</td>\n",
              "      <td>0</td>\n",
              "      <td>0</td>\n",
              "      <td>0</td>\n",
              "      <td>0</td>\n",
              "      <td>0</td>\n",
              "      <td>0</td>\n",
              "      <td>0</td>\n",
              "      <td>0</td>\n",
              "      <td>0</td>\n",
              "      <td>0</td>\n",
              "      <td>0</td>\n",
              "      <td>0</td>\n",
              "      <td>0</td>\n",
              "      <td>0</td>\n",
              "      <td>0</td>\n",
              "      <td>0</td>\n",
              "      <td>0</td>\n",
              "      <td>0</td>\n",
              "      <td>0</td>\n",
              "      <td>0</td>\n",
              "      <td>0</td>\n",
              "      <td>0</td>\n",
              "      <td>0</td>\n",
              "      <td>0</td>\n",
              "      <td>0</td>\n",
              "    </tr>\n",
              "    <tr>\n",
              "      <th>4</th>\n",
              "      <td>0</td>\n",
              "      <td>0</td>\n",
              "      <td>0</td>\n",
              "      <td>0</td>\n",
              "      <td>0</td>\n",
              "      <td>0</td>\n",
              "      <td>0</td>\n",
              "      <td>0</td>\n",
              "      <td>0</td>\n",
              "      <td>0</td>\n",
              "      <td>0</td>\n",
              "      <td>0</td>\n",
              "      <td>0</td>\n",
              "      <td>0</td>\n",
              "      <td>0</td>\n",
              "      <td>0</td>\n",
              "      <td>0</td>\n",
              "      <td>0</td>\n",
              "      <td>0</td>\n",
              "      <td>0</td>\n",
              "      <td>0</td>\n",
              "      <td>0</td>\n",
              "      <td>0</td>\n",
              "      <td>0</td>\n",
              "      <td>0</td>\n",
              "      <td>0</td>\n",
              "      <td>0</td>\n",
              "      <td>0</td>\n",
              "    </tr>\n",
              "    <tr>\n",
              "      <th>5</th>\n",
              "      <td>0</td>\n",
              "      <td>0</td>\n",
              "      <td>0</td>\n",
              "      <td>0</td>\n",
              "      <td>0</td>\n",
              "      <td>0</td>\n",
              "      <td>0</td>\n",
              "      <td>0</td>\n",
              "      <td>0</td>\n",
              "      <td>0</td>\n",
              "      <td>0</td>\n",
              "      <td>0</td>\n",
              "      <td>0</td>\n",
              "      <td>0</td>\n",
              "      <td>0</td>\n",
              "      <td>0</td>\n",
              "      <td>0</td>\n",
              "      <td>0</td>\n",
              "      <td>0</td>\n",
              "      <td>0</td>\n",
              "      <td>0</td>\n",
              "      <td>0</td>\n",
              "      <td>0</td>\n",
              "      <td>0</td>\n",
              "      <td>0</td>\n",
              "      <td>0</td>\n",
              "      <td>0</td>\n",
              "      <td>0</td>\n",
              "    </tr>\n",
              "    <tr>\n",
              "      <th>6</th>\n",
              "      <td>0</td>\n",
              "      <td>0</td>\n",
              "      <td>0</td>\n",
              "      <td>0</td>\n",
              "      <td>0</td>\n",
              "      <td>0</td>\n",
              "      <td>0</td>\n",
              "      <td>0</td>\n",
              "      <td>0</td>\n",
              "      <td>0</td>\n",
              "      <td>0</td>\n",
              "      <td>0</td>\n",
              "      <td>0</td>\n",
              "      <td>0</td>\n",
              "      <td>0</td>\n",
              "      <td>0</td>\n",
              "      <td>0</td>\n",
              "      <td>0</td>\n",
              "      <td>0</td>\n",
              "      <td>0</td>\n",
              "      <td>0</td>\n",
              "      <td>0</td>\n",
              "      <td>0</td>\n",
              "      <td>0</td>\n",
              "      <td>0</td>\n",
              "      <td>0</td>\n",
              "      <td>0</td>\n",
              "      <td>0</td>\n",
              "    </tr>\n",
              "    <tr>\n",
              "      <th>7</th>\n",
              "      <td>0</td>\n",
              "      <td>0</td>\n",
              "      <td>0</td>\n",
              "      <td>0</td>\n",
              "      <td>0</td>\n",
              "      <td>0</td>\n",
              "      <td>84</td>\n",
              "      <td>185</td>\n",
              "      <td>159</td>\n",
              "      <td>151</td>\n",
              "      <td>60</td>\n",
              "      <td>36</td>\n",
              "      <td>0</td>\n",
              "      <td>0</td>\n",
              "      <td>0</td>\n",
              "      <td>0</td>\n",
              "      <td>0</td>\n",
              "      <td>0</td>\n",
              "      <td>0</td>\n",
              "      <td>0</td>\n",
              "      <td>0</td>\n",
              "      <td>0</td>\n",
              "      <td>0</td>\n",
              "      <td>0</td>\n",
              "      <td>0</td>\n",
              "      <td>0</td>\n",
              "      <td>0</td>\n",
              "      <td>0</td>\n",
              "    </tr>\n",
              "    <tr>\n",
              "      <th>8</th>\n",
              "      <td>0</td>\n",
              "      <td>0</td>\n",
              "      <td>0</td>\n",
              "      <td>0</td>\n",
              "      <td>0</td>\n",
              "      <td>0</td>\n",
              "      <td>222</td>\n",
              "      <td>254</td>\n",
              "      <td>254</td>\n",
              "      <td>254</td>\n",
              "      <td>254</td>\n",
              "      <td>241</td>\n",
              "      <td>198</td>\n",
              "      <td>198</td>\n",
              "      <td>198</td>\n",
              "      <td>198</td>\n",
              "      <td>198</td>\n",
              "      <td>198</td>\n",
              "      <td>198</td>\n",
              "      <td>198</td>\n",
              "      <td>170</td>\n",
              "      <td>52</td>\n",
              "      <td>0</td>\n",
              "      <td>0</td>\n",
              "      <td>0</td>\n",
              "      <td>0</td>\n",
              "      <td>0</td>\n",
              "      <td>0</td>\n",
              "    </tr>\n",
              "    <tr>\n",
              "      <th>9</th>\n",
              "      <td>0</td>\n",
              "      <td>0</td>\n",
              "      <td>0</td>\n",
              "      <td>0</td>\n",
              "      <td>0</td>\n",
              "      <td>0</td>\n",
              "      <td>67</td>\n",
              "      <td>114</td>\n",
              "      <td>72</td>\n",
              "      <td>114</td>\n",
              "      <td>163</td>\n",
              "      <td>227</td>\n",
              "      <td>254</td>\n",
              "      <td>225</td>\n",
              "      <td>254</td>\n",
              "      <td>254</td>\n",
              "      <td>254</td>\n",
              "      <td>250</td>\n",
              "      <td>229</td>\n",
              "      <td>254</td>\n",
              "      <td>254</td>\n",
              "      <td>140</td>\n",
              "      <td>0</td>\n",
              "      <td>0</td>\n",
              "      <td>0</td>\n",
              "      <td>0</td>\n",
              "      <td>0</td>\n",
              "      <td>0</td>\n",
              "    </tr>\n",
              "    <tr>\n",
              "      <th>10</th>\n",
              "      <td>0</td>\n",
              "      <td>0</td>\n",
              "      <td>0</td>\n",
              "      <td>0</td>\n",
              "      <td>0</td>\n",
              "      <td>0</td>\n",
              "      <td>0</td>\n",
              "      <td>0</td>\n",
              "      <td>0</td>\n",
              "      <td>0</td>\n",
              "      <td>0</td>\n",
              "      <td>17</td>\n",
              "      <td>66</td>\n",
              "      <td>14</td>\n",
              "      <td>67</td>\n",
              "      <td>67</td>\n",
              "      <td>67</td>\n",
              "      <td>59</td>\n",
              "      <td>21</td>\n",
              "      <td>236</td>\n",
              "      <td>254</td>\n",
              "      <td>106</td>\n",
              "      <td>0</td>\n",
              "      <td>0</td>\n",
              "      <td>0</td>\n",
              "      <td>0</td>\n",
              "      <td>0</td>\n",
              "      <td>0</td>\n",
              "    </tr>\n",
              "    <tr>\n",
              "      <th>11</th>\n",
              "      <td>0</td>\n",
              "      <td>0</td>\n",
              "      <td>0</td>\n",
              "      <td>0</td>\n",
              "      <td>0</td>\n",
              "      <td>0</td>\n",
              "      <td>0</td>\n",
              "      <td>0</td>\n",
              "      <td>0</td>\n",
              "      <td>0</td>\n",
              "      <td>0</td>\n",
              "      <td>0</td>\n",
              "      <td>0</td>\n",
              "      <td>0</td>\n",
              "      <td>0</td>\n",
              "      <td>0</td>\n",
              "      <td>0</td>\n",
              "      <td>0</td>\n",
              "      <td>83</td>\n",
              "      <td>253</td>\n",
              "      <td>209</td>\n",
              "      <td>18</td>\n",
              "      <td>0</td>\n",
              "      <td>0</td>\n",
              "      <td>0</td>\n",
              "      <td>0</td>\n",
              "      <td>0</td>\n",
              "      <td>0</td>\n",
              "    </tr>\n",
              "    <tr>\n",
              "      <th>12</th>\n",
              "      <td>0</td>\n",
              "      <td>0</td>\n",
              "      <td>0</td>\n",
              "      <td>0</td>\n",
              "      <td>0</td>\n",
              "      <td>0</td>\n",
              "      <td>0</td>\n",
              "      <td>0</td>\n",
              "      <td>0</td>\n",
              "      <td>0</td>\n",
              "      <td>0</td>\n",
              "      <td>0</td>\n",
              "      <td>0</td>\n",
              "      <td>0</td>\n",
              "      <td>0</td>\n",
              "      <td>0</td>\n",
              "      <td>0</td>\n",
              "      <td>22</td>\n",
              "      <td>233</td>\n",
              "      <td>255</td>\n",
              "      <td>83</td>\n",
              "      <td>0</td>\n",
              "      <td>0</td>\n",
              "      <td>0</td>\n",
              "      <td>0</td>\n",
              "      <td>0</td>\n",
              "      <td>0</td>\n",
              "      <td>0</td>\n",
              "    </tr>\n",
              "    <tr>\n",
              "      <th>13</th>\n",
              "      <td>0</td>\n",
              "      <td>0</td>\n",
              "      <td>0</td>\n",
              "      <td>0</td>\n",
              "      <td>0</td>\n",
              "      <td>0</td>\n",
              "      <td>0</td>\n",
              "      <td>0</td>\n",
              "      <td>0</td>\n",
              "      <td>0</td>\n",
              "      <td>0</td>\n",
              "      <td>0</td>\n",
              "      <td>0</td>\n",
              "      <td>0</td>\n",
              "      <td>0</td>\n",
              "      <td>0</td>\n",
              "      <td>0</td>\n",
              "      <td>129</td>\n",
              "      <td>254</td>\n",
              "      <td>238</td>\n",
              "      <td>44</td>\n",
              "      <td>0</td>\n",
              "      <td>0</td>\n",
              "      <td>0</td>\n",
              "      <td>0</td>\n",
              "      <td>0</td>\n",
              "      <td>0</td>\n",
              "      <td>0</td>\n",
              "    </tr>\n",
              "    <tr>\n",
              "      <th>14</th>\n",
              "      <td>0</td>\n",
              "      <td>0</td>\n",
              "      <td>0</td>\n",
              "      <td>0</td>\n",
              "      <td>0</td>\n",
              "      <td>0</td>\n",
              "      <td>0</td>\n",
              "      <td>0</td>\n",
              "      <td>0</td>\n",
              "      <td>0</td>\n",
              "      <td>0</td>\n",
              "      <td>0</td>\n",
              "      <td>0</td>\n",
              "      <td>0</td>\n",
              "      <td>0</td>\n",
              "      <td>0</td>\n",
              "      <td>59</td>\n",
              "      <td>249</td>\n",
              "      <td>254</td>\n",
              "      <td>62</td>\n",
              "      <td>0</td>\n",
              "      <td>0</td>\n",
              "      <td>0</td>\n",
              "      <td>0</td>\n",
              "      <td>0</td>\n",
              "      <td>0</td>\n",
              "      <td>0</td>\n",
              "      <td>0</td>\n",
              "    </tr>\n",
              "    <tr>\n",
              "      <th>15</th>\n",
              "      <td>0</td>\n",
              "      <td>0</td>\n",
              "      <td>0</td>\n",
              "      <td>0</td>\n",
              "      <td>0</td>\n",
              "      <td>0</td>\n",
              "      <td>0</td>\n",
              "      <td>0</td>\n",
              "      <td>0</td>\n",
              "      <td>0</td>\n",
              "      <td>0</td>\n",
              "      <td>0</td>\n",
              "      <td>0</td>\n",
              "      <td>0</td>\n",
              "      <td>0</td>\n",
              "      <td>0</td>\n",
              "      <td>133</td>\n",
              "      <td>254</td>\n",
              "      <td>187</td>\n",
              "      <td>5</td>\n",
              "      <td>0</td>\n",
              "      <td>0</td>\n",
              "      <td>0</td>\n",
              "      <td>0</td>\n",
              "      <td>0</td>\n",
              "      <td>0</td>\n",
              "      <td>0</td>\n",
              "      <td>0</td>\n",
              "    </tr>\n",
              "    <tr>\n",
              "      <th>16</th>\n",
              "      <td>0</td>\n",
              "      <td>0</td>\n",
              "      <td>0</td>\n",
              "      <td>0</td>\n",
              "      <td>0</td>\n",
              "      <td>0</td>\n",
              "      <td>0</td>\n",
              "      <td>0</td>\n",
              "      <td>0</td>\n",
              "      <td>0</td>\n",
              "      <td>0</td>\n",
              "      <td>0</td>\n",
              "      <td>0</td>\n",
              "      <td>0</td>\n",
              "      <td>0</td>\n",
              "      <td>9</td>\n",
              "      <td>205</td>\n",
              "      <td>248</td>\n",
              "      <td>58</td>\n",
              "      <td>0</td>\n",
              "      <td>0</td>\n",
              "      <td>0</td>\n",
              "      <td>0</td>\n",
              "      <td>0</td>\n",
              "      <td>0</td>\n",
              "      <td>0</td>\n",
              "      <td>0</td>\n",
              "      <td>0</td>\n",
              "    </tr>\n",
              "    <tr>\n",
              "      <th>17</th>\n",
              "      <td>0</td>\n",
              "      <td>0</td>\n",
              "      <td>0</td>\n",
              "      <td>0</td>\n",
              "      <td>0</td>\n",
              "      <td>0</td>\n",
              "      <td>0</td>\n",
              "      <td>0</td>\n",
              "      <td>0</td>\n",
              "      <td>0</td>\n",
              "      <td>0</td>\n",
              "      <td>0</td>\n",
              "      <td>0</td>\n",
              "      <td>0</td>\n",
              "      <td>0</td>\n",
              "      <td>126</td>\n",
              "      <td>254</td>\n",
              "      <td>182</td>\n",
              "      <td>0</td>\n",
              "      <td>0</td>\n",
              "      <td>0</td>\n",
              "      <td>0</td>\n",
              "      <td>0</td>\n",
              "      <td>0</td>\n",
              "      <td>0</td>\n",
              "      <td>0</td>\n",
              "      <td>0</td>\n",
              "      <td>0</td>\n",
              "    </tr>\n",
              "    <tr>\n",
              "      <th>18</th>\n",
              "      <td>0</td>\n",
              "      <td>0</td>\n",
              "      <td>0</td>\n",
              "      <td>0</td>\n",
              "      <td>0</td>\n",
              "      <td>0</td>\n",
              "      <td>0</td>\n",
              "      <td>0</td>\n",
              "      <td>0</td>\n",
              "      <td>0</td>\n",
              "      <td>0</td>\n",
              "      <td>0</td>\n",
              "      <td>0</td>\n",
              "      <td>0</td>\n",
              "      <td>75</td>\n",
              "      <td>251</td>\n",
              "      <td>240</td>\n",
              "      <td>57</td>\n",
              "      <td>0</td>\n",
              "      <td>0</td>\n",
              "      <td>0</td>\n",
              "      <td>0</td>\n",
              "      <td>0</td>\n",
              "      <td>0</td>\n",
              "      <td>0</td>\n",
              "      <td>0</td>\n",
              "      <td>0</td>\n",
              "      <td>0</td>\n",
              "    </tr>\n",
              "    <tr>\n",
              "      <th>19</th>\n",
              "      <td>0</td>\n",
              "      <td>0</td>\n",
              "      <td>0</td>\n",
              "      <td>0</td>\n",
              "      <td>0</td>\n",
              "      <td>0</td>\n",
              "      <td>0</td>\n",
              "      <td>0</td>\n",
              "      <td>0</td>\n",
              "      <td>0</td>\n",
              "      <td>0</td>\n",
              "      <td>0</td>\n",
              "      <td>0</td>\n",
              "      <td>19</td>\n",
              "      <td>221</td>\n",
              "      <td>254</td>\n",
              "      <td>166</td>\n",
              "      <td>0</td>\n",
              "      <td>0</td>\n",
              "      <td>0</td>\n",
              "      <td>0</td>\n",
              "      <td>0</td>\n",
              "      <td>0</td>\n",
              "      <td>0</td>\n",
              "      <td>0</td>\n",
              "      <td>0</td>\n",
              "      <td>0</td>\n",
              "      <td>0</td>\n",
              "    </tr>\n",
              "    <tr>\n",
              "      <th>20</th>\n",
              "      <td>0</td>\n",
              "      <td>0</td>\n",
              "      <td>0</td>\n",
              "      <td>0</td>\n",
              "      <td>0</td>\n",
              "      <td>0</td>\n",
              "      <td>0</td>\n",
              "      <td>0</td>\n",
              "      <td>0</td>\n",
              "      <td>0</td>\n",
              "      <td>0</td>\n",
              "      <td>0</td>\n",
              "      <td>3</td>\n",
              "      <td>203</td>\n",
              "      <td>254</td>\n",
              "      <td>219</td>\n",
              "      <td>35</td>\n",
              "      <td>0</td>\n",
              "      <td>0</td>\n",
              "      <td>0</td>\n",
              "      <td>0</td>\n",
              "      <td>0</td>\n",
              "      <td>0</td>\n",
              "      <td>0</td>\n",
              "      <td>0</td>\n",
              "      <td>0</td>\n",
              "      <td>0</td>\n",
              "      <td>0</td>\n",
              "    </tr>\n",
              "    <tr>\n",
              "      <th>21</th>\n",
              "      <td>0</td>\n",
              "      <td>0</td>\n",
              "      <td>0</td>\n",
              "      <td>0</td>\n",
              "      <td>0</td>\n",
              "      <td>0</td>\n",
              "      <td>0</td>\n",
              "      <td>0</td>\n",
              "      <td>0</td>\n",
              "      <td>0</td>\n",
              "      <td>0</td>\n",
              "      <td>0</td>\n",
              "      <td>38</td>\n",
              "      <td>254</td>\n",
              "      <td>254</td>\n",
              "      <td>77</td>\n",
              "      <td>0</td>\n",
              "      <td>0</td>\n",
              "      <td>0</td>\n",
              "      <td>0</td>\n",
              "      <td>0</td>\n",
              "      <td>0</td>\n",
              "      <td>0</td>\n",
              "      <td>0</td>\n",
              "      <td>0</td>\n",
              "      <td>0</td>\n",
              "      <td>0</td>\n",
              "      <td>0</td>\n",
              "    </tr>\n",
              "    <tr>\n",
              "      <th>22</th>\n",
              "      <td>0</td>\n",
              "      <td>0</td>\n",
              "      <td>0</td>\n",
              "      <td>0</td>\n",
              "      <td>0</td>\n",
              "      <td>0</td>\n",
              "      <td>0</td>\n",
              "      <td>0</td>\n",
              "      <td>0</td>\n",
              "      <td>0</td>\n",
              "      <td>0</td>\n",
              "      <td>31</td>\n",
              "      <td>224</td>\n",
              "      <td>254</td>\n",
              "      <td>115</td>\n",
              "      <td>1</td>\n",
              "      <td>0</td>\n",
              "      <td>0</td>\n",
              "      <td>0</td>\n",
              "      <td>0</td>\n",
              "      <td>0</td>\n",
              "      <td>0</td>\n",
              "      <td>0</td>\n",
              "      <td>0</td>\n",
              "      <td>0</td>\n",
              "      <td>0</td>\n",
              "      <td>0</td>\n",
              "      <td>0</td>\n",
              "    </tr>\n",
              "    <tr>\n",
              "      <th>23</th>\n",
              "      <td>0</td>\n",
              "      <td>0</td>\n",
              "      <td>0</td>\n",
              "      <td>0</td>\n",
              "      <td>0</td>\n",
              "      <td>0</td>\n",
              "      <td>0</td>\n",
              "      <td>0</td>\n",
              "      <td>0</td>\n",
              "      <td>0</td>\n",
              "      <td>0</td>\n",
              "      <td>133</td>\n",
              "      <td>254</td>\n",
              "      <td>254</td>\n",
              "      <td>52</td>\n",
              "      <td>0</td>\n",
              "      <td>0</td>\n",
              "      <td>0</td>\n",
              "      <td>0</td>\n",
              "      <td>0</td>\n",
              "      <td>0</td>\n",
              "      <td>0</td>\n",
              "      <td>0</td>\n",
              "      <td>0</td>\n",
              "      <td>0</td>\n",
              "      <td>0</td>\n",
              "      <td>0</td>\n",
              "      <td>0</td>\n",
              "    </tr>\n",
              "    <tr>\n",
              "      <th>24</th>\n",
              "      <td>0</td>\n",
              "      <td>0</td>\n",
              "      <td>0</td>\n",
              "      <td>0</td>\n",
              "      <td>0</td>\n",
              "      <td>0</td>\n",
              "      <td>0</td>\n",
              "      <td>0</td>\n",
              "      <td>0</td>\n",
              "      <td>0</td>\n",
              "      <td>61</td>\n",
              "      <td>242</td>\n",
              "      <td>254</td>\n",
              "      <td>254</td>\n",
              "      <td>52</td>\n",
              "      <td>0</td>\n",
              "      <td>0</td>\n",
              "      <td>0</td>\n",
              "      <td>0</td>\n",
              "      <td>0</td>\n",
              "      <td>0</td>\n",
              "      <td>0</td>\n",
              "      <td>0</td>\n",
              "      <td>0</td>\n",
              "      <td>0</td>\n",
              "      <td>0</td>\n",
              "      <td>0</td>\n",
              "      <td>0</td>\n",
              "    </tr>\n",
              "    <tr>\n",
              "      <th>25</th>\n",
              "      <td>0</td>\n",
              "      <td>0</td>\n",
              "      <td>0</td>\n",
              "      <td>0</td>\n",
              "      <td>0</td>\n",
              "      <td>0</td>\n",
              "      <td>0</td>\n",
              "      <td>0</td>\n",
              "      <td>0</td>\n",
              "      <td>0</td>\n",
              "      <td>121</td>\n",
              "      <td>254</td>\n",
              "      <td>254</td>\n",
              "      <td>219</td>\n",
              "      <td>40</td>\n",
              "      <td>0</td>\n",
              "      <td>0</td>\n",
              "      <td>0</td>\n",
              "      <td>0</td>\n",
              "      <td>0</td>\n",
              "      <td>0</td>\n",
              "      <td>0</td>\n",
              "      <td>0</td>\n",
              "      <td>0</td>\n",
              "      <td>0</td>\n",
              "      <td>0</td>\n",
              "      <td>0</td>\n",
              "      <td>0</td>\n",
              "    </tr>\n",
              "    <tr>\n",
              "      <th>26</th>\n",
              "      <td>0</td>\n",
              "      <td>0</td>\n",
              "      <td>0</td>\n",
              "      <td>0</td>\n",
              "      <td>0</td>\n",
              "      <td>0</td>\n",
              "      <td>0</td>\n",
              "      <td>0</td>\n",
              "      <td>0</td>\n",
              "      <td>0</td>\n",
              "      <td>121</td>\n",
              "      <td>254</td>\n",
              "      <td>207</td>\n",
              "      <td>18</td>\n",
              "      <td>0</td>\n",
              "      <td>0</td>\n",
              "      <td>0</td>\n",
              "      <td>0</td>\n",
              "      <td>0</td>\n",
              "      <td>0</td>\n",
              "      <td>0</td>\n",
              "      <td>0</td>\n",
              "      <td>0</td>\n",
              "      <td>0</td>\n",
              "      <td>0</td>\n",
              "      <td>0</td>\n",
              "      <td>0</td>\n",
              "      <td>0</td>\n",
              "    </tr>\n",
              "    <tr>\n",
              "      <th>27</th>\n",
              "      <td>0</td>\n",
              "      <td>0</td>\n",
              "      <td>0</td>\n",
              "      <td>0</td>\n",
              "      <td>0</td>\n",
              "      <td>0</td>\n",
              "      <td>0</td>\n",
              "      <td>0</td>\n",
              "      <td>0</td>\n",
              "      <td>0</td>\n",
              "      <td>0</td>\n",
              "      <td>0</td>\n",
              "      <td>0</td>\n",
              "      <td>0</td>\n",
              "      <td>0</td>\n",
              "      <td>0</td>\n",
              "      <td>0</td>\n",
              "      <td>0</td>\n",
              "      <td>0</td>\n",
              "      <td>0</td>\n",
              "      <td>0</td>\n",
              "      <td>0</td>\n",
              "      <td>0</td>\n",
              "      <td>0</td>\n",
              "      <td>0</td>\n",
              "      <td>0</td>\n",
              "      <td>0</td>\n",
              "      <td>0</td>\n",
              "    </tr>\n",
              "  </tbody>\n",
              "</table>\n",
              "</div>\n",
              "    <div class=\"colab-df-buttons\">\n",
              "\n",
              "  <div class=\"colab-df-container\">\n",
              "    <button class=\"colab-df-convert\" onclick=\"convertToInteractive('df-24b3eb35-2241-4481-9705-346ce4da681d')\"\n",
              "            title=\"Convert this dataframe to an interactive table.\"\n",
              "            style=\"display:none;\">\n",
              "\n",
              "  <svg xmlns=\"http://www.w3.org/2000/svg\" height=\"24px\" viewBox=\"0 -960 960 960\">\n",
              "    <path d=\"M120-120v-720h720v720H120Zm60-500h600v-160H180v160Zm220 220h160v-160H400v160Zm0 220h160v-160H400v160ZM180-400h160v-160H180v160Zm440 0h160v-160H620v160ZM180-180h160v-160H180v160Zm440 0h160v-160H620v160Z\"/>\n",
              "  </svg>\n",
              "    </button>\n",
              "\n",
              "  <style>\n",
              "    .colab-df-container {\n",
              "      display:flex;\n",
              "      gap: 12px;\n",
              "    }\n",
              "\n",
              "    .colab-df-convert {\n",
              "      background-color: #E8F0FE;\n",
              "      border: none;\n",
              "      border-radius: 50%;\n",
              "      cursor: pointer;\n",
              "      display: none;\n",
              "      fill: #1967D2;\n",
              "      height: 32px;\n",
              "      padding: 0 0 0 0;\n",
              "      width: 32px;\n",
              "    }\n",
              "\n",
              "    .colab-df-convert:hover {\n",
              "      background-color: #E2EBFA;\n",
              "      box-shadow: 0px 1px 2px rgba(60, 64, 67, 0.3), 0px 1px 3px 1px rgba(60, 64, 67, 0.15);\n",
              "      fill: #174EA6;\n",
              "    }\n",
              "\n",
              "    .colab-df-buttons div {\n",
              "      margin-bottom: 4px;\n",
              "    }\n",
              "\n",
              "    [theme=dark] .colab-df-convert {\n",
              "      background-color: #3B4455;\n",
              "      fill: #D2E3FC;\n",
              "    }\n",
              "\n",
              "    [theme=dark] .colab-df-convert:hover {\n",
              "      background-color: #434B5C;\n",
              "      box-shadow: 0px 1px 3px 1px rgba(0, 0, 0, 0.15);\n",
              "      filter: drop-shadow(0px 1px 2px rgba(0, 0, 0, 0.3));\n",
              "      fill: #FFFFFF;\n",
              "    }\n",
              "  </style>\n",
              "\n",
              "    <script>\n",
              "      const buttonEl =\n",
              "        document.querySelector('#df-24b3eb35-2241-4481-9705-346ce4da681d button.colab-df-convert');\n",
              "      buttonEl.style.display =\n",
              "        google.colab.kernel.accessAllowed ? 'block' : 'none';\n",
              "\n",
              "      async function convertToInteractive(key) {\n",
              "        const element = document.querySelector('#df-24b3eb35-2241-4481-9705-346ce4da681d');\n",
              "        const dataTable =\n",
              "          await google.colab.kernel.invokeFunction('convertToInteractive',\n",
              "                                                    [key], {});\n",
              "        if (!dataTable) return;\n",
              "\n",
              "        const docLinkHtml = 'Like what you see? Visit the ' +\n",
              "          '<a target=\"_blank\" href=https://colab.research.google.com/notebooks/data_table.ipynb>data table notebook</a>'\n",
              "          + ' to learn more about interactive tables.';\n",
              "        element.innerHTML = '';\n",
              "        dataTable['output_type'] = 'display_data';\n",
              "        await google.colab.output.renderOutput(dataTable, element);\n",
              "        const docLink = document.createElement('div');\n",
              "        docLink.innerHTML = docLinkHtml;\n",
              "        element.appendChild(docLink);\n",
              "      }\n",
              "    </script>\n",
              "  </div>\n",
              "\n",
              "\n",
              "<div id=\"df-00d1167c-f137-4f04-afd4-9263f0636149\">\n",
              "  <button class=\"colab-df-quickchart\" onclick=\"quickchart('df-00d1167c-f137-4f04-afd4-9263f0636149')\"\n",
              "            title=\"Suggest charts\"\n",
              "            style=\"display:none;\">\n",
              "\n",
              "<svg xmlns=\"http://www.w3.org/2000/svg\" height=\"24px\"viewBox=\"0 0 24 24\"\n",
              "     width=\"24px\">\n",
              "    <g>\n",
              "        <path d=\"M19 3H5c-1.1 0-2 .9-2 2v14c0 1.1.9 2 2 2h14c1.1 0 2-.9 2-2V5c0-1.1-.9-2-2-2zM9 17H7v-7h2v7zm4 0h-2V7h2v10zm4 0h-2v-4h2v4z\"/>\n",
              "    </g>\n",
              "</svg>\n",
              "  </button>\n",
              "\n",
              "<style>\n",
              "  .colab-df-quickchart {\n",
              "      --bg-color: #E8F0FE;\n",
              "      --fill-color: #1967D2;\n",
              "      --hover-bg-color: #E2EBFA;\n",
              "      --hover-fill-color: #174EA6;\n",
              "      --disabled-fill-color: #AAA;\n",
              "      --disabled-bg-color: #DDD;\n",
              "  }\n",
              "\n",
              "  [theme=dark] .colab-df-quickchart {\n",
              "      --bg-color: #3B4455;\n",
              "      --fill-color: #D2E3FC;\n",
              "      --hover-bg-color: #434B5C;\n",
              "      --hover-fill-color: #FFFFFF;\n",
              "      --disabled-bg-color: #3B4455;\n",
              "      --disabled-fill-color: #666;\n",
              "  }\n",
              "\n",
              "  .colab-df-quickchart {\n",
              "    background-color: var(--bg-color);\n",
              "    border: none;\n",
              "    border-radius: 50%;\n",
              "    cursor: pointer;\n",
              "    display: none;\n",
              "    fill: var(--fill-color);\n",
              "    height: 32px;\n",
              "    padding: 0;\n",
              "    width: 32px;\n",
              "  }\n",
              "\n",
              "  .colab-df-quickchart:hover {\n",
              "    background-color: var(--hover-bg-color);\n",
              "    box-shadow: 0 1px 2px rgba(60, 64, 67, 0.3), 0 1px 3px 1px rgba(60, 64, 67, 0.15);\n",
              "    fill: var(--button-hover-fill-color);\n",
              "  }\n",
              "\n",
              "  .colab-df-quickchart-complete:disabled,\n",
              "  .colab-df-quickchart-complete:disabled:hover {\n",
              "    background-color: var(--disabled-bg-color);\n",
              "    fill: var(--disabled-fill-color);\n",
              "    box-shadow: none;\n",
              "  }\n",
              "\n",
              "  .colab-df-spinner {\n",
              "    border: 2px solid var(--fill-color);\n",
              "    border-color: transparent;\n",
              "    border-bottom-color: var(--fill-color);\n",
              "    animation:\n",
              "      spin 1s steps(1) infinite;\n",
              "  }\n",
              "\n",
              "  @keyframes spin {\n",
              "    0% {\n",
              "      border-color: transparent;\n",
              "      border-bottom-color: var(--fill-color);\n",
              "      border-left-color: var(--fill-color);\n",
              "    }\n",
              "    20% {\n",
              "      border-color: transparent;\n",
              "      border-left-color: var(--fill-color);\n",
              "      border-top-color: var(--fill-color);\n",
              "    }\n",
              "    30% {\n",
              "      border-color: transparent;\n",
              "      border-left-color: var(--fill-color);\n",
              "      border-top-color: var(--fill-color);\n",
              "      border-right-color: var(--fill-color);\n",
              "    }\n",
              "    40% {\n",
              "      border-color: transparent;\n",
              "      border-right-color: var(--fill-color);\n",
              "      border-top-color: var(--fill-color);\n",
              "    }\n",
              "    60% {\n",
              "      border-color: transparent;\n",
              "      border-right-color: var(--fill-color);\n",
              "    }\n",
              "    80% {\n",
              "      border-color: transparent;\n",
              "      border-right-color: var(--fill-color);\n",
              "      border-bottom-color: var(--fill-color);\n",
              "    }\n",
              "    90% {\n",
              "      border-color: transparent;\n",
              "      border-bottom-color: var(--fill-color);\n",
              "    }\n",
              "  }\n",
              "</style>\n",
              "\n",
              "  <script>\n",
              "    async function quickchart(key) {\n",
              "      const quickchartButtonEl =\n",
              "        document.querySelector('#' + key + ' button');\n",
              "      quickchartButtonEl.disabled = true;  // To prevent multiple clicks.\n",
              "      quickchartButtonEl.classList.add('colab-df-spinner');\n",
              "      try {\n",
              "        const charts = await google.colab.kernel.invokeFunction(\n",
              "            'suggestCharts', [key], {});\n",
              "      } catch (error) {\n",
              "        console.error('Error during call to suggestCharts:', error);\n",
              "      }\n",
              "      quickchartButtonEl.classList.remove('colab-df-spinner');\n",
              "      quickchartButtonEl.classList.add('colab-df-quickchart-complete');\n",
              "    }\n",
              "    (() => {\n",
              "      let quickchartButtonEl =\n",
              "        document.querySelector('#df-00d1167c-f137-4f04-afd4-9263f0636149 button');\n",
              "      quickchartButtonEl.style.display =\n",
              "        google.colab.kernel.accessAllowed ? 'block' : 'none';\n",
              "    })();\n",
              "  </script>\n",
              "</div>\n",
              "    </div>\n",
              "  </div>\n"
            ]
          },
          "metadata": {},
          "execution_count": 95
        }
      ],
      "source": [
        "(x_train, y_train), (x_test, y_test) = tf.keras.datasets.mnist.load_data()\n",
        "\n",
        "# this prints what is in a single entry of the raw dataset:\n",
        "\n",
        "print('1st y_value:', y_test[0])\n",
        "pd.DataFrame(x_test[0])"
      ]
    },
    {
      "cell_type": "markdown",
      "metadata": {
        "id": "TNguxJqic0pa"
      },
      "source": [
        "#We do some pre-processing on the images: convert from integer to float32 and normalize the pixels to be real numbers within 0 to 1\n",
        "\n",
        "## Why Convert to Float32?\n",
        "\n",
        "In machine learning and deep learning, it's common to work with data in `float32` format because it is more memory-efficient compared to the default `float64`. The smaller size of `float32` allows for faster computation and reduced memory usage, which can be significant when dealing with large datasets or when training deep neural networks.\n",
        "\n",
        "This type conversion is often done before feeding the data into a machine learning model, especially if the model expects input in `float32`. It is important to ensure consistency in data types to avoid unexpected issues during model training or inference.\n"
      ]
    },
    {
      "cell_type": "code",
      "execution_count": 51,
      "metadata": {
        "id": "kyeCZipyc0pa",
        "outputId": "3d881aa7-c18e-437d-e2a8-7dba4ca384ad",
        "colab": {
          "base_uri": "https://localhost:8080/"
        }
      },
      "outputs": [
        {
          "output_type": "stream",
          "name": "stdout",
          "text": [
            "(60000, 28, 28)\n"
          ]
        }
      ],
      "source": [
        "# Convert the data type of elements to float32\n",
        "x_train = x_train.astype(numpy.float32)\n",
        "x_test  = x_test.astype(numpy.float32)\n",
        "\n",
        "# Normalize the pixel values by dividing each element by 255\n",
        "x_train /= 255.\n",
        "x_test  /= 255.\n",
        "\n",
        "print(x_train.shape)"
      ]
    },
    {
      "cell_type": "code",
      "source": [],
      "metadata": {
        "id": "2Ky7q4AbKJDE"
      },
      "execution_count": null,
      "outputs": []
    },
    {
      "cell_type": "markdown",
      "metadata": {
        "id": "hMcQl8umc0pa"
      },
      "source": [
        "The training data (x_train) is a tensor of 60,000 images, each of size 28x28 pixels.\n",
        "\n",
        "For this notebook, we flatten each image to a vector, so x_train is a matrix of size (60000, 28*28).\n",
        "\n",
        "## Purpose of Flattening Image Data\n",
        "\n",
        "This reshapes the input data by converting a multi-dimensional array or structure into a one-dimensional array. The reasons for doing this depend on the requirements of the machine learning model being used. Here are some common motivations:\n",
        "\n",
        "1. **Input Format for Neural Networks:**\n",
        "   - Many neural network architectures, especially those with fully connected layers, expect the input in a flattened or vectorized format. Each image, typically represented as a 2D or 3D array, needs to be transformed into a 1D vector.\n",
        "\n",
        "2. **Simplifying Input for Traditional Machine Learning Models:**\n",
        "   - Some traditional machine learning algorithms, like Support Vector Machines or Decision Trees, may require a 1D representation of the input data.\n",
        "\n",
        "3. **Consistent Input Shape:**\n",
        "   - Flattening ensures that each input sample has a consistent shape. This is crucial when training machine learning models, as they often require inputs to be of the same size.\n",
        "---\n",
        "- `x_train.shape[0]` represents the number of samples in the training set.\n",
        "- `numpy.prod(x_train[0,:,:].shape)` calculates the product of the dimensions of the first image in the training set. This operation effectively flattens each image into a 1D array.\n",
        "\n",
        "This process is part of the data preprocessing step and is commonly used in machine learning, especially when working with image data. The goal is to ensure a consistent and compatible input format for machine learning models, particularly those that expect flattened or vectorized representations of input images."
      ]
    },
    {
      "cell_type": "code",
      "execution_count": 52,
      "metadata": {
        "id": "JndK-KMZc0pa",
        "outputId": "fb68e5b0-e8b7-479d-a088-89b0ee709454",
        "colab": {
          "base_uri": "https://localhost:8080/"
        }
      },
      "outputs": [
        {
          "output_type": "stream",
          "name": "stdout",
          "text": [
            "(60000, 784)\n"
          ]
        }
      ],
      "source": [
        "x_train = x_train.reshape(x_train.shape[0], numpy.prod(x_train[0,:,:].shape))\n",
        "x_test = x_test.reshape(x_test.shape[0], numpy.prod(x_test[0,:,:].shape))\n",
        "\n",
        "print(x_train.shape)"
      ]
    },
    {
      "cell_type": "markdown",
      "metadata": {
        "id": "Au7ElBC_c0pb"
      },
      "source": [
        "y_train is a 60000-dimensional vector containing the correct classes (\"0\", \"1\", ..., \"9\") for each training sample."
      ]
    },
    {
      "cell_type": "code",
      "execution_count": 53,
      "metadata": {
        "id": "GrhQ8j32c0pb",
        "outputId": "190cefa0-993b-4d78-a5d5-f0735e3c5f5d",
        "colab": {
          "base_uri": "https://localhost:8080/"
        }
      },
      "outputs": [
        {
          "output_type": "stream",
          "name": "stdout",
          "text": [
            "\n",
            "MNIST data loaded: train: 60000 test: 10000\n",
            "X_train: (60000, 784)\n",
            "y_train: (60000,)\n"
          ]
        }
      ],
      "source": [
        "y_train = y_train.astype(numpy.int32)\n",
        "y_test  = y_test.astype(numpy.int32)\n",
        "\n",
        "print()\n",
        "print('MNIST data loaded: train:',len(x_train),'test:',len(x_test))\n",
        "print('X_train:', x_train.shape)\n",
        "print('y_train:', y_train.shape)"
      ]
    },
    {
      "cell_type": "markdown",
      "metadata": {
        "id": "T6t3rXKMc0pb"
      },
      "source": [
        "Let's take a closer look. Here are the first 10 training digits:"
      ]
    },
    {
      "cell_type": "code",
      "execution_count": 54,
      "metadata": {
        "id": "TulR52DMc0pb",
        "outputId": "73d3c642-fe0b-487f-caf1-e2f969b0f02e",
        "colab": {
          "base_uri": "https://localhost:8080/",
          "height": 125
        }
      },
      "outputs": [
        {
          "output_type": "display_data",
          "data": {
            "text/plain": [
              "<Figure size 1000x100 with 10 Axes>"
            ],
            "image/png": "[encoded data removed]"
          },
          "metadata": {}
        }
      ],
      "source": [
        "pltsize=1\n",
        "plt.figure(figsize=(10*pltsize, pltsize))\n",
        "\n",
        "for i in range(10):\n",
        "    plt.subplot(1,10,i+1)\n",
        "    plt.axis('off')\n",
        "    plt.imshow(numpy.reshape(x_train[i,:], (28, 28)), cmap=\"gray\")\n",
        "    plt.title('Class: '+str(y_train[i]))"
      ]
    },
    {
      "cell_type": "markdown",
      "metadata": {
        "id": "peoAXKRxc0pb"
      },
      "source": [
        "## Linear model"
      ]
    },
    {
      "cell_type": "markdown",
      "metadata": {
        "id": "V_Ol9jhqc0pb"
      },
      "source": [
        "## Introduction to Simple Linear Model with Flattened Images\n",
        "\n",
        "Let's start with a basic linear model, similar to linear regression discussed last week. However, we introduce a slight complication: each example in our dataset is now represented as a vector, specifically a flattened image. This modification affects the way we calculate the \"slope\" in our linear model; instead of a simple multiplication, it becomes a dot product.\n",
        "\n",
        "### Linear Regression with Flattened Images\n",
        "\n",
        "In the context of machine learning, especially in image-related tasks, each example is often a vectorized form of an image, commonly referred to as a flattened image. This means that the pixel values of the image are arranged in a one-dimensional vector.\n",
        "\n",
        "### Dot Product in Linear Model\n",
        "\n",
        "The multiplication operation in the linear model is replaced by a dot product when dealing with flattened images. Each example (flattened image) is now represented as a vector, and the linear transformation involves computing the dot product of this vector with the weight parameters.\n",
        "\n",
        "### Handling Multiple Examples\n",
        "\n",
        "Similar to our previous discussions, we continue to consider multiple examples simultaneously. The variable `input_images` is a matrix where each row represents a different example. This matrix organization allows us to efficiently process and represent a batch of examples, making the linear model applicable to real-world datasets with diverse samples.\n",
        "\n",
        "In summary, the linear model with flattened images involves representing each example as a vector and performing dot products to calculate the linear transformation. This approach is particularly relevant when dealing with image data in machine learning tasks."
      ]
    },
    {
      "cell_type": "code",
      "execution_count": 55,
      "metadata": {
        "id": "b2Qvv6AJc0pc"
      },
      "outputs": [],
      "source": [
        "def linear_model(W, input_images):\n",
        "    # W: Weight matrix representing the model parameters.\n",
        "    #input_images: Matrix containing input examples, where each row represents an example.\n",
        "\n",
        "    # The function returns the result of the dot product between input_images and W.\n",
        "\n",
        "    # f(x) = xW returns m-length vector, where m is the number of examples\n",
        "    return numpy.dot(input_images, W)"
      ]
    },
    {
      "cell_type": "markdown",
      "metadata": {
        "id": "3Y83l_fJc0pc"
      },
      "source": [
        "Like last week, the loss is mean squared error (MSE):\n",
        "\n",
        "$\\large{MSE = \\frac{1}{n} \\sum_{i=1}^{n} (y - \\hat{y})^{2}}$\n",
        "\n",
        "There are many others, but MSE which is a commonly used metric to quantify the average squared difference between the actual values (denoted by $(y)$) and the predicted values (denoted by $(\\hat{y})$ in a dataset.\n",
        "\n",
        "##Here's a breakdown of the components in the expression:\n",
        "\n",
        "- $(n)$ is the number of examples or data points in the dataset.\n",
        "- $(i)$ is an index representing each individual example in the dataset.\n",
        "- $(y_i)$ is the actual or observed value for the $i$-th example.\n",
        "- $(\\hat{y}_i)$ is the predicted value for the $i$-th example.\n",
        "\n",
        "##The MSE is calculated as follows:\n",
        "\n",
        "1. For each example $(i)$, calculate the squared difference between the actual $(y_i)$ and predicted $(\\hat{y}_i)$ values using the formula: $(y_i - \\hat{y}_i)^2)$.\n",
        "2. Sum up these squared differences across all examples by applying the summation notation: $\\sum_{i=1}^{n} (y_i - \\hat{y}_i)^2$.\n",
        "3. To obtain the mean squared error (MSE), average the sum by dividing it by the total number of examples $(n)$: $\\frac{1}{n} \\sum_{i=1}^{n} (y_i - \\hat{y}_i)^2$.\n",
        "\n",
        "In this format, each step is presented in a numbered list for clarity and easy reference. The LaTeX equations are preserved to maintain the mathematical expressions.\n",
        "\n",
        "\n",
        "The resulting value is the mean squared error, which provides a measure of how well the predictions align with the actual values in the dataset. Lower MSE values indicate better alignment between predictions and actual outcomes.\n",
        "\n",
        "In summary, the MSE is a key metric used in regression problems to evaluate the accuracy of predictions by penalizing larger errors more heavily. The goal is to minimize the MSE during the training of a model."
      ]
    },
    {
      "cell_type": "code",
      "execution_count": 56,
      "metadata": {
        "id": "AqnyDNR0c0pc"
      },
      "outputs": [],
      "source": [
        "def evaluate(W, input_images, true_labels):\n",
        "    predicted_label = linear_model(W, input_images)\n",
        "    MSE = numpy.mean((true_labels - predicted_label)**2)\n",
        "    return MSE"
      ]
    },
    {
      "cell_type": "markdown",
      "metadata": {
        "id": "7EYJr6Rdc0pc"
      },
      "source": [
        "Update weights using gradient decent\n",
        "$\\large{W = W - \\eta \\frac{\\partial J(W)}{\\partial W} }$,  where, $W$ is the network weight, $\\eta$ is the learning rate and $J(W)$ is the objective function"
      ]
    },
    {
      "cell_type": "code",
      "execution_count": 57,
      "metadata": {
        "id": "JaRfM54Kc0pc"
      },
      "outputs": [],
      "source": [
        "def learn(input_images, true_labels, current_W, learning_rate=0.000001):\n",
        "    # First, calculate the partial derivatives of the mean squared error (JW = MSE).\n",
        "    n = input_images.shape[0]  # Get the number of examples to average over.\n",
        "    label_predictions = linear_model(current_W, input_images)\n",
        "\n",
        "    # Calculate the gradient: one entry per partial derivative for an entry in vector W.\n",
        "    dJW_dW = (2. / n) * numpy.dot(input_images.transpose(), label_predictions - true_labels)\n",
        "\n",
        "    # Update W using the gradient descent step.\n",
        "    new_W = current_W - (learning_rate * dJW_dW)\n",
        "\n",
        "    return new_W"
      ]
    },
    {
      "cell_type": "markdown",
      "metadata": {
        "id": "6F1IfYhBc0pd"
      },
      "source": [
        "In practice, we usually don't use all of the training data to calculate each step. We use a random subset. This makes the steps faster and noisier.\n",
        "\n",
        "Introducing noise by using random subsets during optimization enhances the efficiency, robustness, and generalization ability of machine learning models.\n",
        "\n",
        "- The random selection of a subset introduces stochasticity into the optimization process. This stochastic nature helps the optimization algorithm escape local minima and explore a larger portion of the parameter space. It prevents the model from getting stuck in a suboptimal solution and promotes convergence to a better overall solution.\n",
        "\n",
        "- It also enables the use of parallel computing resources and helps avoid overfitting.\n",
        "\n",
        "Overfitting occurs when a machine learning model learns the training data too well, capturing noise and specific details that are not representative of the broader underlying patterns. As a result, the model performs exceptionally on the training data but fails to generalize effectively to new, unseen data. Overfit models are excessively complex and may memorize the training set instead of learning the underlying relationships, leading to poor performance on real-world tasks. Regularization techniques and validation datasets are commonly used to address and mitigate overfitting.\n",
        "\n"
      ]
    },
    {
      "cell_type": "code",
      "execution_count": 58,
      "metadata": {
        "id": "DVo62j7Nc0pd"
      },
      "outputs": [],
      "source": [
        "# At the moment we take the simple route and use a fixed subset.\n",
        "batch_size = 100\n",
        "\n",
        "x_train_batch = x_train[:batch_size, :]\n",
        "y_train_batch = y_train[:batch_size,numpy.newaxis]"
      ]
    },
    {
      "cell_type": "code",
      "execution_count": 59,
      "metadata": {
        "id": "UuWjsYaDc0pd",
        "outputId": "f38321b5-5772-4a1b-da4d-1ce0fa835c77",
        "colab": {
          "base_uri": "https://localhost:8080/",
          "height": 447
        }
      },
      "outputs": [
        {
          "output_type": "execute_result",
          "data": {
            "text/plain": [
              "[<matplotlib.lines.Line2D at 0x7d6a7d7ee020>]"
            ]
          },
          "metadata": {},
          "execution_count": 59
        },
        {
          "output_type": "display_data",
          "data": {
            "text/plain": [
              "<Figure size 640x480 with 1 Axes>"
            ],
            "image/png": "[encoded data removed]"
          },
          "metadata": {}
        }
      ],
      "source": [
        "# Determine the number of features, which corresponds to the number of pixels\n",
        "num_features = x_train.shape[1] # this is the number of pixels\n",
        "\n",
        "# Randomly initialize W\n",
        "W = .01 * numpy.random.rand(num_features,1)\n",
        "\n",
        "# Iterate num_iters times, with the step size defined by learning_rate\n",
        "learning_rate = 0.0005\n",
        "num_iters = 5000\n",
        "losses = numpy.zeros(num_iters,)\n",
        "\n",
        "for i in range(0, num_iters):\n",
        "    # here is the magic\n",
        "\n",
        "    # Update W using the learn function\n",
        "    W = learn(x_train_batch, y_train_batch, W, learning_rate)\n",
        "    # Evaluate the current loss and store it in the losses array\n",
        "    losses[i] = evaluate(W, x_train_batch, y_train_batch)\n",
        "plt.plot(losses)"
      ]
    },
    {
      "cell_type": "markdown",
      "metadata": {
        "id": "8pOIm4n9c0pd"
      },
      "source": [
        "### Check results so far"
      ]
    },
    {
      "cell_type": "markdown",
      "metadata": {
        "id": "pGRU--Izc0pd"
      },
      "source": [
        "As expected, this simple linear model f(x) = xW is not very accurate"
      ]
    },
    {
      "cell_type": "code",
      "execution_count": 60,
      "metadata": {
        "id": "78AWM2XVc0pd",
        "outputId": "46123f91-da2e-4800-e4df-7165beabdfe9",
        "colab": {
          "base_uri": "https://localhost:8080/",
          "height": 125
        }
      },
      "outputs": [
        {
          "output_type": "display_data",
          "data": {
            "text/plain": [
              "<Figure size 1000x100 with 10 Axes>"
            ],
            "image/png": "[encoded data removed]"
          },
          "metadata": {}
        }
      ],
      "source": [
        "pltsize = 1  # Set the size of the plots\n",
        "plt.figure(figsize=(10 * pltsize, pltsize))  # Create a figure with specified size\n",
        "\n",
        "# Predict labels for the first 10 examples using the linear model\n",
        "predicted_labels = linear_model(W, x_train[:10, :])\n",
        "\n",
        "# Loop through the first 10 examples\n",
        "for i in range(10):\n",
        "    plt.subplot(1, 10, i + 1)  # Create a subplot for each example\n",
        "    plt.axis('off')  # Turn off axis labels\n",
        "\n",
        "    # Display the original image by reshaping it to 28x28 pixels and using a grayscale colormap\n",
        "    plt.imshow(numpy.reshape(x_train[i, :], (28, 28)), cmap=\"gray\")\n",
        "\n",
        "    # Set the title of each subplot as the predicted label for that example\n",
        "    plt.title('%1.2f' % predicted_labels[i])\n"
      ]
    },
    {
      "cell_type": "markdown",
      "metadata": {
        "id": "EY7Xnkg4c0pe"
      },
      "source": [
        "## In-class exercise: implement \"accuracy\" - number of images correctly labeled"
      ]
    },
    {
      "cell_type": "code",
      "source": [
        "\n",
        "# one answer, following the format of the above evaluate function:\n",
        "\n",
        "def accuracy(true_labels, predicted_labels):\n",
        "    N = predicted_labels.shape[0]\n",
        "    acc = (true_labels == predicted_labels).sum() / N\n",
        "    return acc\n",
        "\n",
        "def evaluate_accuracy(W, input_images, true_labels):\n",
        "    predicted_labels = numpy.round(linear_model(W, input_images)) # round real numbers to integer labels\n",
        "    acc = accuracy(true_labels, predicted_labels)\n",
        "    return acc"
      ],
      "metadata": {
        "id": "LuWs-EHPGNSp"
      },
      "execution_count": 76,
      "outputs": []
    },
    {
      "cell_type": "code",
      "source": [
        "# can plot this definition of accuracy here to check that it looks reasonable\n",
        "\n",
        "# Randomly initialize W\n",
        "W = .01 * numpy.random.rand(num_features,1)\n",
        "\n",
        "# now iterate num_iters times, with the step size defined by learning_rate\n",
        "losses = numpy.zeros(num_iters,)\n",
        "accuracies = numpy.zeros(num_iters,)\n",
        "\n",
        "for i in range(0, num_iters):\n",
        "    # all the magic here\n",
        "    W = learn(x_train_batch, y_train_batch, W, learning_rate)\n",
        "    losses[i] = evaluate(W, x_train_batch, y_train_batch)\n",
        "    accuracies[i] = evaluate_accuracy(W, x_train_batch, y_train_batch)"
      ],
      "metadata": {
        "id": "JdXq92BnGQKf"
      },
      "execution_count": 77,
      "outputs": []
    },
    {
      "cell_type": "code",
      "source": [
        "plt.figure()\n",
        "\n",
        "# Plot for losses\n",
        "plt.subplot(2, 1, 1)\n",
        "plt.plot(losses)\n",
        "plt.title('Loss')\n",
        "plt.xlabel('Iteration')\n",
        "plt.ylabel('Loss')\n",
        "\n",
        "# Plot for accuracies\n",
        "plt.subplot(2, 1, 2)\n",
        "plt.plot(accuracies)\n",
        "plt.title('Accuracy')\n",
        "plt.xlabel('Iteration')\n",
        "plt.ylabel('Accuracy')\n",
        "\n",
        "# Adjust layout to prevent overlapping titles and labels\n",
        "plt.tight_layout()\n",
        "\n",
        "# Show the plots\n",
        "plt.show()\n"
      ],
      "metadata": {
        "id": "lTcaiKl4GRSi",
        "outputId": "ae6c9f9a-0402-45ce-bb3b-b7133515c009",
        "colab": {
          "base_uri": "https://localhost:8080/",
          "height": 486
        }
      },
      "execution_count": 80,
      "outputs": [
        {
          "output_type": "display_data",
          "data": {
            "text/plain": [
              "<Figure size 640x480 with 2 Axes>"
            ],
            "image/png": "[encoded data removed]"
          },
          "metadata": {}
        }
      ]
    },
    {
      "cell_type": "markdown",
      "metadata": {
        "id": "mS_DGk4vc0pe"
      },
      "source": [
        "### Improving the model"
      ]
    },
    {
      "cell_type": "markdown",
      "metadata": {
        "id": "_NUN1tYfc0pe"
      },
      "source": [
        "Examples of basic ways to improve:\n",
        "- Add bias term: f(x) = xW + b (In neural networks, the bias term is often associated with each neuron, contributing to the neuron's ability to activate even when the weighted sum of inputs is zero.) The bias term allows the model to account for a baseline prediction and improves its ability to capture patterns in the data, especially when the input features are not always zero.\n",
        "- Reformulate as classification (output integers, not real numbers), like logistic regression\n",
        "- Minimize something other than mean squared error"
      ]
    },
    {
      "cell_type": "markdown",
      "metadata": {
        "id": "iDtO9jA0c0pe"
      },
      "source": [
        "The sigmoid function encourages outputs of 0 and 1\n",
        "\n",
        "---\n",
        "### Sigmoid Function (`sigmoid`):\n",
        "\n",
        "- The `sigmoid` function implements the sigmoid activation function, commonly used in binary classification problems.\n",
        "- It transforms any real-valued number into the range (0, 1), making it suitable for binary classification where the output can be interpreted as probabilities.\n",
        "- The formula for the sigmoid function is \\( \\sigma(x) = \\frac{1}{1 + e^{-x}} \\), where \\( e \\) is the base of the natural logarithm.\n",
        "\n",
        "### Classification Model (`classification_model`):\n",
        "\n",
        "- The `classification_model` function defines a classification model using a sigmoid activation function.\n",
        "- It takes three parameters:\n",
        "  - `A`: Weight matrix representing the model parameters.\n",
        "  - `b`: Bias term.\n",
        "  - `input_images`: Matrix containing input examples, where each row represents an example.\n",
        "- The function computes the dot product of the input images (`numpy.dot(input_images, A)`) and adds the bias term `b`. The result is then passed through the sigmoid activation function using the previously defined `sigmoid` function.\n",
        "- The output is a vector of probabilities, each corresponding to the likelihood of a binary classification (e.g., class 0 or class 1) for each input example.\n",
        "\n",
        "In summary, the provided code defines a sigmoid activation function and a classification model that utilizes the sigmoid function for binary classification tasks.\n",
        "\n"
      ]
    },
    {
      "cell_type": "code",
      "execution_count": 61,
      "metadata": {
        "id": "ErSSs0Pgc0pe"
      },
      "outputs": [],
      "source": [
        "def sigmoid(x):\n",
        "    z = 1/(1 + numpy.exp(-x))\n",
        "    return(z)\n",
        "\n",
        "def classification_model(A, b, input_images):\n",
        "    # f(x) = sigmoid(xA + b) returns m-length vector, where m is the number of examples\n",
        "    return sigmoid(numpy.dot(input_images, W) + b)"
      ]
    },
    {
      "cell_type": "code",
      "execution_count": 62,
      "metadata": {
        "id": "ASrebrQIc0pe",
        "outputId": "e333bd2c-5eb8-47f0-d577-e5af12082abe",
        "colab": {
          "base_uri": "https://localhost:8080/",
          "height": 447
        }
      },
      "outputs": [
        {
          "output_type": "execute_result",
          "data": {
            "text/plain": [
              "[<matplotlib.lines.Line2D at 0x7d6a7d51a590>]"
            ]
          },
          "metadata": {},
          "execution_count": 62
        },
        {
          "output_type": "display_data",
          "data": {
            "text/plain": [
              "<Figure size 640x480 with 1 Axes>"
            ],
            "image/png": "[encoded data removed]"
          },
          "metadata": {}
        }
      ],
      "source": [
        "x = numpy.arange(-10, 10, step=.1)\n",
        "plt.plot(x, sigmoid(x))"
      ]
    },
    {
      "cell_type": "markdown",
      "metadata": {
        "id": "6xflTy31c0pe"
      },
      "source": [
        "To handle multiple classes, it's common to use a one-hot encoding:\n",
        "\n",
        "#### Example: Categorical Variable \"Color\"\n",
        "\n",
        "### Integer Mapping:\n",
        "\n",
        "- Red: 1\n",
        "- Green: 2\n",
        "- Blue: 3\n",
        "\n",
        "### One-Hot Encoding:\n",
        "\n",
        "- Red: [1, 0, 0]\n",
        "- Green: [0, 1, 0]\n",
        "- Blue: [0, 0, 1]\n",
        "\n",
        "This way, each category is represented as a unique binary vector, and the model can understand and process these vectors as input features.\n",
        "\n",
        "One-hot encoding is commonly used in scenarios where the categorical variable doesn't have an inherent ordinal relationship (i.e., the order does not matter), and each category is independent of the others. It is widely used in machine learning tasks such as classification, where models require numerical input.\n"
      ]
    },
    {
      "cell_type": "code",
      "execution_count": 63,
      "metadata": {
        "id": "1t8r3blNc0pf"
      },
      "outputs": [],
      "source": [
        "# one-hot encoding,\n",
        "nb_classes = 10\n",
        "y_train_onehot = tf.keras.utils.to_categorical(y_train, nb_classes)\n",
        "y_test_onehot = tf.keras.utils.to_categorical(y_test, nb_classes)\n",
        "\n",
        "# 1 for each number :\n",
        "# the number one would be ?\n",
        "# [ ?,?,?,?.....]"
      ]
    },
    {
      "cell_type": "code",
      "execution_count": 64,
      "metadata": {
        "id": "Zi1FMrnHc0pf",
        "outputId": "3f4458ab-9f52-44b0-ec9f-a8e57c62fe6b",
        "colab": {
          "base_uri": "https://localhost:8080/",
          "height": 295
        }
      },
      "outputs": [
        {
          "output_type": "stream",
          "name": "stdout",
          "text": [
            "Training sample 0 : class: 5 , one-hot encoded: [0. 0. 0. 0. 0. 1. 0. 0. 0. 0.]\n",
            "Training sample 1 : class: 0 , one-hot encoded: [1. 0. 0. 0. 0. 0. 0. 0. 0. 0.]\n",
            "Training sample 2 : class: 4 , one-hot encoded: [0. 0. 0. 0. 1. 0. 0. 0. 0. 0.]\n",
            "Training sample 3 : class: 1 , one-hot encoded: [0. 1. 0. 0. 0. 0. 0. 0. 0. 0.]\n",
            "Training sample 4 : class: 9 , one-hot encoded: [0. 0. 0. 0. 0. 0. 0. 0. 0. 1.]\n",
            "Training sample 5 : class: 2 , one-hot encoded: [0. 0. 1. 0. 0. 0. 0. 0. 0. 0.]\n",
            "Training sample 6 : class: 1 , one-hot encoded: [0. 1. 0. 0. 0. 0. 0. 0. 0. 0.]\n",
            "Training sample 7 : class: 3 , one-hot encoded: [0. 0. 0. 1. 0. 0. 0. 0. 0. 0.]\n",
            "Training sample 8 : class: 1 , one-hot encoded: [0. 1. 0. 0. 0. 0. 0. 0. 0. 0.]\n",
            "Training sample 9 : class: 4 , one-hot encoded: [0. 0. 0. 0. 1. 0. 0. 0. 0. 0.]\n"
          ]
        },
        {
          "output_type": "display_data",
          "data": {
            "text/plain": [
              "<Figure size 1000x100 with 10 Axes>"
            ],
            "image/png": "[encoded data removed]"
          },
          "metadata": {}
        }
      ],
      "source": [
        "pltsize=1\n",
        "plt.figure(figsize=(10*pltsize, pltsize))\n",
        "\n",
        "for i in range(10):\n",
        "    plt.subplot(1,10,i+1)\n",
        "    plt.axis('off')\n",
        "    plt.imshow(numpy.reshape(x_train[i,:], (28, 28)), cmap=\"gray\")\n",
        "    plt.title('Class: '+str(y_train[i]))\n",
        "    print('Training sample',i,': class:',y_train[i], ', one-hot encoded:', y_train_onehot[i])"
      ]
    },
    {
      "cell_type": "markdown",
      "metadata": {
        "id": "0BdFCB8_c0pf"
      },
      "source": [
        "To handle multi-class classification, it's common to use softmax instead of sigmoid. It's related but forces the outputs to sum to 1, like a probability distribution. The class with the highest value is the prediction.\n",
        "---\n",
        "The `softmax` function is a crucial component in the final layer of neural networks for multi-class classification, providing a way to interpret raw scores as class probabilities. This function is a mathematical operation commonly used in machine learning for multi-class classification problems. It takes an input vector \\(x\\) and transforms it into a probability distribution over multiple classes.\n",
        "\n",
        "- **Input:**\n",
        "  - `x`: A matrix where each row corresponds to the unnormalized scores (logits) for different classes.\n",
        "\n",
        "- **Output:**\n",
        "  - `z`: A matrix representing the probabilities for each class after applying the softmax operation.\n",
        "\n",
        "- **Softmax Operation:**\n",
        "  1. The `numpy.exp(x)` calculates the exponential of each element in the input matrix, which essentially transforms the logits into positive values.\n",
        "  2. `numpy.sum(numpy.exp(x), axis=1)` computes the sum of exponentials along each row, obtaining the normalization factor for each example.\n",
        "  3. `normalization[:, None]` ensures proper broadcasting, converting the normalization factor into a column vector.\n",
        "  4. The division `numpy.exp(x) / normalization[:, None]` normalizes the exponentials by dividing each element by its corresponding normalization factor. This step results in a probability distribution for each example.\n",
        "  5. The final output `z` is a matrix where each row represents the probability distribution over classes for a specific example.\n",
        "\n",
        "- **Interpretation:**\n",
        "  - The softmax function transforms the raw scores (logits) into probabilities, making it suitable for multi-class classification tasks.\n",
        "  - The output values in each row of `z` represent the probabilities assigned to different classes, ensuring that the probabilities sum to 1 for each example.\n",
        "\n"
      ]
    },
    {
      "cell_type": "code",
      "execution_count": 65,
      "metadata": {
        "id": "9OeMyTkbc0pf"
      },
      "outputs": [],
      "source": [
        "def softmax(x):\n",
        "    normalization = numpy.sum(numpy.exp(x),axis=1)\n",
        "    z = numpy.exp(x) / normalization[:,None]\n",
        "    return(z)"
      ]
    },
    {
      "cell_type": "code",
      "execution_count": 66,
      "metadata": {
        "id": "s6Fux5Jec0pf"
      },
      "outputs": [],
      "source": [
        "# Randomly initialize W and b\n",
        "W = .01 * numpy.random.rand(num_features,10)\n",
        "b = .01 * numpy.random.rand(10,)\n",
        "\n",
        "def classification_model(W, b, input_images):\n",
        "    # f(x) = softmax(xW + b) returns m x 10 matrix, where m is the number of examples and 10 is the number of classes\n",
        "    return softmax(numpy.dot(input_images, W) + b)"
      ]
    },
    {
      "cell_type": "code",
      "execution_count": 67,
      "metadata": {
        "id": "j9reF9V4c0pf"
      },
      "outputs": [],
      "source": [
        "# To demonstrate softmax, we can apply this model with random W & b\n",
        "predicted_labels = classification_model(W, b, x_train[:5,:])"
      ]
    },
    {
      "cell_type": "code",
      "execution_count": 68,
      "metadata": {
        "id": "cCu6R80jc0pf",
        "outputId": "4acdcf1c-c34c-4f9f-a0d5-1407f37d6626",
        "colab": {
          "base_uri": "https://localhost:8080/"
        }
      },
      "outputs": [
        {
          "output_type": "stream",
          "name": "stdout",
          "text": [
            "[0.10011422 0.09576759 0.10614554 0.10130298 0.09938426 0.09753557\n",
            " 0.10180406 0.10231732 0.09691615 0.09871232]\n",
            "1.0000000000000002\n"
          ]
        }
      ],
      "source": [
        "# Here the class \"probabilities\" might all be very similar since the model hasn't been trained\n",
        "print(predicted_labels[0,:])\n",
        "print(sum(predicted_labels[0,:]))"
      ]
    },
    {
      "cell_type": "markdown",
      "metadata": {
        "id": "bq1cMX8tc0pg"
      },
      "source": [
        "Also, for multi-class classification problem, it is common to minimize a different \"loss\" function instead of mean squared error, like categorical cross-entropy. You can read more [here](https://gombru.github.io/2018/05/23/cross_entropy_loss/)."
      ]
    },
    {
      "cell_type": "markdown",
      "metadata": {
        "id": "BgSKBRenc0pg"
      },
      "source": [
        "## Nonlinear Model"
      ]
    },
    {
      "cell_type": "markdown",
      "metadata": {
        "id": "nEUqmM2xc0pg"
      },
      "source": [
        "The above improvements are not enough to classify these images. We move to a nonlinear model."
      ]
    },
    {
      "cell_type": "markdown",
      "metadata": {
        "id": "jI2olTFQc0pg"
      },
      "source": [
        "A neural network has multiple layers. A basic layer is $\\sigma(xA + b)$, where $\\sigma$ is a nonlinear \"activation function.\"\n",
        "\n",
        "Introducing multiple layers in a neural network allows it to learn hierarchical representations, and the addition of each layer involves an affine transformation followed by a non-linear activation function. This architecture enables neural networks to model intricate relationships and patterns in data, making them effective for a wide range of tasks, including classification, regression, and feature learning.\n",
        "---\n",
        "\n",
        "The expression represents a basic layer in a neural network, where:\n",
        "\n",
        "- \\( x \\) is the input vector,\n",
        "- \\( A \\) is the weight matrix,\n",
        "- \\( b \\) is the bias vector,\n",
        "- \\( $\\sigma$) is a non-linear activation function applied element-wise.\n",
        "\n",
        "This basic layer is often referred to as a single hidden layer in neural network terminology. However, neural networks typically consist of multiple layers to capture complex relationships in data. Adding more layers enables the network to learn hierarchical features and representations.\n",
        "\n",
        "The statement \"An example neural network with two layers adds another affine transformation\" implies the introduction of an additional layer to the network. A neural network with two layers is often called a two-layer neural network, which includes:\n",
        "\n",
        "1. The first layer: $\\( \\sigma(xA + b) \\)$\n",
        "   - This represents the initial layer with the non-linear activation function applied to the weighted sum of inputs.\n",
        "\n",
        "2. The second layer: $\\( \\sigma(zC + d) \\)$\n",
        "   - Here, \\( z \\) is the output from the first layer, \\( C \\) is another weight matrix, and \\( d \\) is a bias vector.\n",
        "   - This constitutes an additional affine transformation followed by the same non-linear activation function.\n",
        "\n",
        "By stacking multiple layers, the neural network becomes capable of learning more complex and abstract representations from the input data. Each layer captures different aspects of the data, and the non-linear activation functions introduce non-linearities, enabling the network to approximate complex functions and make it more expressive.\n",
        "\n",
        "\n",
        "---\n",
        "An example neural network with two layers adds another affine transformation:"
      ]
    },
    {
      "cell_type": "markdown",
      "metadata": {
        "id": "ntnCzoK-c0pg"
      },
      "source": [
        "$f(x) = \\sigma(\\sigma(xW_1 + b_1)W_2 + b_2)$"
      ]
    },
    {
      "cell_type": "markdown",
      "metadata": {
        "id": "BROPxo8dc0pg"
      },
      "source": [
        "This is often drawn as a network like this:\n",
        "\n",
        "\n",
        "<img src=\"https://github.com/JaredKeithAveritt/AI_methods_in_advanced_materials_research/blob/main/Week_3/images/tiny_network.png?raw=1\" width=\"300\" hight=\"300\" align=\"left\"/>"
      ]
    },
    {
      "cell_type": "markdown",
      "metadata": {
        "id": "G469RUxsc0pg"
      },
      "source": [
        "##Writing it in numpy, with sigmoid as the activation function\n",
        "\n",
        "---\n",
        "\n",
        "An activation function in the context of neural networks is a mathematical operation applied to each node (or neuron) in a neural network. It introduces non-linearity to the network, allowing it to model complex relationships and learn intricate patterns in the data. The activation function decides whether a neuron should be activated (output a non-zero value) or not (output zero), based on its input.\n",
        "\n",
        "Commonly used activation functions include:\n",
        "\n",
        "1. **Sigmoid Function $(\\( \\sigma \\))$:**\n",
        "   $\\[ \\sigma(x) = \\frac{1}{1 + e^{-x}} \\]$\n",
        "   - Outputs values between 0 and 1.\n",
        "   - Used in the output layer of binary classification models.\n",
        "\n",
        "2. **Hyperbolic Tangent Function (tanh):**\n",
        "   $\\[ \\tanh(x) = \\frac{e^{2x} - 1}{e^{2x} + 1} \\]$\n",
        "   - Outputs values between -1 and 1.\n",
        "   - Similar to the sigmoid but with a range from -1 to 1.\n",
        "\n",
        "3. **Rectified Linear Unit (ReLU):**\n",
        "   $\\[ \\text{ReLU}(x) = \\max(0, x) \\]$\n",
        "   - Outputs the input for positive values, zero for negative values.\n",
        "   - Popular for hidden layers due to simplicity and efficiency in training.\n",
        "\n",
        "4. **Leaky Rectified Linear Unit (Leaky ReLU):**\n",
        "   \\[ \\text{Leaky ReLU}(x) = \\begin{cases} x, & \\text{if } x > 0 \\\\ 0.01x, & \\text{otherwise} \\end{cases} \\]\n",
        "   - Similar to ReLU but allows a small gradient for negative values to address the \"dying ReLU\" problem.\n",
        "\n",
        "5. **Softmax Function:**\n",
        "   \\[ \\text{Softmax}(x_i) = \\frac{e^{x_i}}{\\sum_{j} e^{x_j}} \\]\n",
        "   - Used in the output layer of multi-class classification models.\n",
        "   - Converts input values into a probability distribution.\n",
        "\n",
        "The role of an activation function is crucial in enabling a neural network to learn complex representations and relationships in the data. The non-linearity introduced by these functions allows the network to approximate and generalize well to diverse patterns and structures. Choosing an appropriate activation function depends on the specific task and characteristics of the data being modeled."
      ]
    },
    {
      "cell_type": "code",
      "execution_count": 69,
      "metadata": {
        "id": "voLJ61Ehc0pg"
      },
      "outputs": [],
      "source": [
        "def nonlinear_model(W1, W2, b1, b2, input_images):\n",
        "    return sigmoid(numpy.dot(sigmoid(numpy.dot(input_images, W1) + b1), W2) + b2)"
      ]
    },
    {
      "cell_type": "markdown",
      "metadata": {
        "id": "z1hBxWYfc0ph"
      },
      "source": [
        "Adding another layer:\n",
        "\n",
        "$f(x) = \\sigma(\\sigma(\\sigma(xW_1 + b_1)W_2 + b_2)W_3 + b_3)$\n",
        "\n",
        "\n",
        "<img src=\"https://github.com/JaredKeithAveritt/AI_methods_in_advanced_materials_research/blob/main/Week_3/images/three_layer_network.png?raw=1\" width=\"300\" hight=\"300\" align=\"left\"/>"
      ]
    },
    {
      "cell_type": "code",
      "execution_count": 70,
      "metadata": {
        "id": "so_vxNUtc0ph"
      },
      "outputs": [],
      "source": [
        "def nonlinear_model(A1, A2, A3, b1, b2, b3, input_images):\n",
        "    return sigmoid(numpy.dot(sigmoid(numpy.dot(sigmoid(numpy.dot(input_images, A1) + b1), A2) + b2), A3) + b3)"
      ]
    },
    {
      "cell_type": "markdown",
      "metadata": {
        "id": "T7vK19k1c0ph"
      },
      "source": [
        "We will learn about other activation functions (nonlinearities) next week."
      ]
    },
    {
      "cell_type": "markdown",
      "metadata": {
        "id": "8DnRI1ulc0ph"
      },
      "source": [
        "Optimizing a nonlinear model:\n",
        "- We still want to use stochastic gradient descent (or a variant), but now the gradients are more complicated\n",
        "- The gradients can be calculated with calculus (chain rule!). To save on computation, we move backward through the layers, saving intermediate results for re-use. This is called **back-propagation**.\n",
        "- Applying the current network to the data is often called the \"forward pass,\" and calculating the gradients is called the \"backward pass.\""
      ]
    },
    {
      "cell_type": "markdown",
      "metadata": {
        "id": "HRSzNHx8c0ph"
      },
      "source": [
        "Nonlinear neural networks can fit more complicated data than linear models. On the other hand, deep learning training can be tricky.\n",
        "\n",
        "1. Unlike linear regression, the objective function that you're minimizing (some measure of error) is non-convex, so there can be many local optima. As we learned about last week, the learning rate can help you jump into a new area, although too much jumping can be bad."
      ]
    },
    {
      "cell_type": "markdown",
      "metadata": {
        "id": "8aTt0L42c0ph"
      },
      "source": [
        "![multiple local minima](https://github.com/JaredKeithAveritt/AI_methods_in_advanced_materials_research/blob/main/Week_3/images/nonconvex.png?raw=1)\n",
        "\n",
        "Image source: [firsttimeprogrammer.blogspot.com](http://firsttimeprogrammer.blogspot.com/2014/09/multivariable-gradient-descent.html)"
      ]
    },
    {
      "cell_type": "markdown",
      "metadata": {
        "id": "3soZQ4Dgc0ph"
      },
      "source": [
        "There are some fancier versions of gradient descent optimization algorithms that are more effective, such as:\n",
        "- Adam\n",
        "- RMSprop\n",
        "- Adadelta\n",
        "- Adagrad\n",
        "\n",
        "For far more information, and some cool animations, see https://ruder.io/optimizing-gradient-descent/ or https://distill.pub/2017/momentum/. It will be easier to try them out next week when we are using TensorFlow."
      ]
    },
    {
      "cell_type": "markdown",
      "metadata": {
        "id": "0ZhnjUCac0pi"
      },
      "source": [
        "2. Neural networks can be overly flexible/complicated and \"overfit\" your data. This is like what happens if you fit a high-degree polynomial:"
      ]
    },
    {
      "cell_type": "markdown",
      "metadata": {
        "id": "s1t7q5HGc0pi"
      },
      "source": [
        "\n",
        "<img src=\"https://github.com/JaredKeithAveritt/AI_methods_in_advanced_materials_research/blob/main/Week_3/images/bias_vs_variance.png?raw=1\" width=\"800\" hight=\"500\" align=\"left\"/>"
      ]
    },
    {
      "cell_type": "markdown",
      "metadata": {
        "id": "WIYtIXTfc0pi"
      },
      "source": [
        "3. To improve the generalization of our model on previously unseen data, we employ a technique known as regularization, which constrains our optimization problem in order to discourage complex models. Next week, we'll learn about Dropout for regularization. A simpler form is to add a penalty for large weights (\"L2 regularization\")."
      ]
    },
    {
      "cell_type": "markdown",
      "metadata": {
        "id": "GSsg_DB3c0pi"
      },
      "source": [
        "\n",
        "<img src=\"https://github.com/JaredKeithAveritt/AI_methods_in_advanced_materials_research/blob/main/Week_3/images/test_data_rule.png?raw=1\" width=\"800\" hight=\"500\" align=\"left\"/>"
      ]
    },
    {
      "cell_type": "markdown",
      "metadata": {
        "id": "lXm3qy_Vc0pi"
      },
      "source": [
        "## In-class exercise: split the training data into training & validation, and track validation loss during the training loop."
      ]
    },
    {
      "cell_type": "markdown",
      "metadata": {
        "id": "UOJ07GxZc0pi"
      },
      "source": [
        "Tip: https://scikit-learn.org/stable/modules/generated/sklearn.model_selection.train_test_split.html\n",
        "\n",
        "How do we know when to stop training? For example, you might stop when the validation loss stops improving."
      ]
    },
    {
      "cell_type": "markdown",
      "metadata": {
        "id": "qK03G_iEc0pi"
      },
      "source": [
        "Now that we have the basics, we can experiment with more complicated networks. Rather than implement these all by hand, we will move to using existing Python packages next week."
      ]
    },
    {
      "cell_type": "markdown",
      "metadata": {
        "id": "BsLqAB2fc0pi"
      },
      "source": [
        "There are variants of \"universal approximation theorems\" roughly stating that there exists a nonlinear neural network with one hidden layer (possibly very wide) can fit an \"arbitrary\" nice/smooth function arbitrarily well. However, we can make the optimizaiton easier with fancier layers than \"fully connected,\" like convolutional layers, which we will learn about next week."
      ]
    },
    {
      "cell_type": "code",
      "execution_count": 71,
      "metadata": {
        "id": "dPPJ8bu6c0pj"
      },
      "outputs": [],
      "source": [
        "from sklearn.model_selection import train_test_split"
      ]
    },
    {
      "cell_type": "code",
      "source": [
        "x_train2, x_val, y_train2, y_val = train_test_split(x_train, y_train, test_size=0.33, random_state=42)\n"
      ],
      "metadata": {
        "id": "C1DmQRh1FxI1"
      },
      "execution_count": 72,
      "outputs": []
    },
    {
      "cell_type": "code",
      "source": [
        "\n",
        "# for simplicity and speed, we could again consider just a batch of training data & a batch of validation data\n",
        "x_train_batch2 = x_train2[:batch_size, :]\n",
        "y_train_batch2 = y_train2[:batch_size,numpy.newaxis]\n",
        "x_val_batch = x_val[:batch_size, :]\n",
        "y_val_batch = y_val[:batch_size,numpy.newaxis]"
      ],
      "metadata": {
        "id": "Dt2OyDZ6Fxft"
      },
      "execution_count": 73,
      "outputs": []
    },
    {
      "cell_type": "code",
      "source": [
        "# Randomly initialize W\n",
        "W = .01 * numpy.random.rand(num_features,1)\n",
        "\n",
        "# now iterate num_iters times, with the step size defined by learning_rate\n",
        "losses = numpy.zeros((num_iters,2)) # 1st column for training data, 2nd for validation data\n",
        "accuracies = numpy.zeros((num_iters,2))\n",
        "\n",
        "for i in range(0, num_iters):\n",
        "    W = learn(x_train_batch2, y_train_batch2, W, learning_rate)\n",
        "    losses[i,0] = evaluate(W, x_train_batch, y_train_batch)\n",
        "    losses[i,1] = evaluate(W, x_val_batch, y_val_batch)\n",
        "    accuracies[i,0] = evaluate_accuracy(W, x_train_batch2, y_train_batch2)\n",
        "    accuracies[i,1] = evaluate_accuracy(W, x_val_batch, y_val_batch)"
      ],
      "metadata": {
        "id": "kqRHIyZiFysX"
      },
      "execution_count": 81,
      "outputs": []
    },
    {
      "cell_type": "code",
      "source": [
        "import matplotlib.pyplot as plt\n",
        "\n",
        "# Assuming 'losses' and 'accuracies' are your data arrays with two columns\n",
        "\n",
        "plt.figure()\n",
        "\n",
        "# Plot for losses\n",
        "plt.subplot(2, 1, 1)\n",
        "plt.plot(losses[:, 0], label='Train')\n",
        "plt.plot(losses[:, 1], label='Validation')\n",
        "plt.legend()\n",
        "plt.title('Loss')\n",
        "plt.xlabel('Iteration')\n",
        "plt.ylabel('Loss')\n",
        "\n",
        "# Plot for accuracies\n",
        "plt.subplot(2, 1, 2)\n",
        "plt.plot(accuracies[:, 0], label='Train')\n",
        "plt.plot(accuracies[:, 1], label='Validation')\n",
        "plt.legend()\n",
        "plt.title('Accuracy')\n",
        "plt.xlabel('Iteration')\n",
        "plt.ylabel('Accuracy')\n",
        "\n",
        "# Adjust layout to prevent overlapping titles and labels\n",
        "plt.tight_layout()\n",
        "\n",
        "# Show the plots\n",
        "plt.show()\n"
      ],
      "metadata": {
        "id": "kY7_lDM8F1y-",
        "outputId": "7c114d06-c50a-420e-e21b-94bfe7bcbfd0",
        "colab": {
          "base_uri": "https://localhost:8080/",
          "height": 486
        }
      },
      "execution_count": 84,
      "outputs": [
        {
          "output_type": "display_data",
          "data": {
            "text/plain": [
              "<Figure size 640x480 with 2 Axes>"
            ],
            "image/png": "[encoded data removed]"
          },
          "metadata": {}
        }
      ]
    },
    {
      "cell_type": "code",
      "source": [],
      "metadata": {
        "id": "vyXEHc7BF9xC"
      },
      "execution_count": 75,
      "outputs": []
    },
    {
      "cell_type": "markdown",
      "source": [
        "HW is to improve the accuracy of the model to above 0.7 (1.0 is the highest)"
      ],
      "metadata": {
        "id": "JGRrpRehG4uD"
      }
    }
  ],
  "metadata": {
    "colab": {
      "provenance": [],
      "include_colab_link": true
    },
    "kernelspec": {
      "display_name": "Python 3 (ipykernel)",
      "language": "python",
      "name": "python3"
    },
    "language_info": {
      "codemirror_mode": {
        "name": "ipython",
        "version": 3
      },
      "file_extension": ".py",
      "mimetype": "text/x-python",
      "name": "python",
      "nbconvert_exporter": "python",
      "pygments_lexer": "ipython3",
      "version": "3.7.4"
    }
  },
  "nbformat": 4,
  "nbformat_minor": 0
}