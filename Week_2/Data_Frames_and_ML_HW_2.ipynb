{
  "nbformat": 4,
  "nbformat_minor": 0,
  "metadata": {
    "colab": {
      "provenance": [],
      "authorship_tag": "ABX9TyMBZbGguqYfnOkns7UQenok",
      "include_colab_link": true
    },
    "kernelspec": {
      "name": "python3",
      "display_name": "Python 3"
    },
    "language_info": {
      "name": "python"
    }
  },
  "cells": [
    {
      "cell_type": "markdown",
      "metadata": {
        "id": "view-in-github",
        "colab_type": "text"
      },
      "source": [
        "<a href=\"https://colab.research.google.com/github/JaredKeithAveritt/AI_methods_in_advanced_materials_research/blob/main/Data_Frames_and_ML_HW_2.ipynb\" target=\"_parent\"><img src=\"https://colab.research.google.com/assets/colab-badge.svg\" alt=\"Open In Colab\"/></a>"
      ]
    },
    {
      "cell_type": "markdown",
      "source": [
        "# Homework 2\n",
        "1. In AI, datasets are often very large and cannot be processed all at once as is done in the loop in the [previous notebook](https://github.com/JaredKeithAveritt/AI_methods_in_advanced_materials_research/blob/main/Week_2/01_linear_regression_sgd.ipynb). The data is instead randomly sampled in smaller _batches_ where each _batch_ contains `batch_size` inputs. How can you change the loop above to sample the dataset in smaller batches? Hint: Our `data` variable is a Pandas `DataFrame` object, search for \"how to sample a DataFrame\".\n",
        "2. As described above, learning rates that grow smaller over time can help find and get closer to global minima. In the loop in code [previous notebook](https://github.com/JaredKeithAveritt/AI_methods_in_advanced_materials_research/blob/main/Week_2/01_linear_regression_sgd.ipynb), our `learning_rate_m` and `learning_rate_b` are constant through the process of minimizing our parameters. How could you change the loop to reduce the learning rates over loop iterations? (this is called [learning rate decay](https://youtu.be/QzulmoOg2JE?si=3RZdptc4kLxskWze))\n"
      ],
      "metadata": {
        "id": "mkze4NbJHv_G"
      }
    },
    {
      "cell_type": "code",
      "source": [],
      "metadata": {
        "id": "OzH_uijoIW-5"
      },
      "execution_count": null,
      "outputs": []
    }
  ]
}
