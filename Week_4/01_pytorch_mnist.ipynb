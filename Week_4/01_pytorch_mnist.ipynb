{
 "cells": [
  {
   "cell_type": "markdown",
   "metadata": {
    "tags": []
   },
   "source": [
    "\n",
    "\n",
    "\n",
    "# Introduction to Neural Networks \n",
    "Last week we trained a multi-layer perceptron model (a basic kind of neural network) to classify handwritten digits by hand.\n",
    "\n",
    "In this notebook, we will use existing Python libraries to solve a supervised learning problem, specifically a classification problem using the MNIST dataset. \n",
    "\n",
    "We will also furthur our knowledge of neural networks and deep learning through this hands-on example.\n",
    "\n",
    "In particular, we will discuss how to train and improve the  learning capabilities.  We will be using the PyTorch Python library.\n",
    "\n",
    "The [MNIST dataset](http://yann.lecun.com/exdb/mnist/) contains thousands of examples of handwritten numbers, with each digit labeled 0-9.\n",
    "<img src=\"images/mnist_task.png\"  align=\"left\"/>\n",
    "\n"
   ]
  },
  {
   "cell_type": "markdown",
   "metadata": {},
   "source": [
    "### Import Statements Explained\n",
    "\n",
    "- `import torch`:  \n",
    "  This imports the PyTorch library into your Python script, making all the functions and classes of PyTorch available. PyTorch is a popular open-source machine learning library for Python, known for its flexibility and dynamic computational graph, which facilitates the development and training of deep learning models.\n",
    "\n",
    "- `import torchvision`:  \n",
    "  Imports the torchvision package, which is a part of the PyTorch project. `torchvision` consists of popular datasets, model architectures, and common image transformations for computer vision. It is particularly useful for loading and preprocessing image data.\n",
    "\n",
    "- `from torch import nn`:  \n",
    "  This line specifically imports the `nn` module from PyTorch. The `nn` module contains classes and functions to build neural networks. It includes layers, activation functions, and utilities for constructing, training, and running neural networks."
   ]
  },
  {
   "cell_type": "code",
   "execution_count": 3,
   "metadata": {},
   "outputs": [],
   "source": [
    "%matplotlib inline\n",
    "#This is a magic command (can only use 1 per code block, and must be the first line) for Jupyter notebooks and IPython environments. It ensures that the output of plotting commands is displayed inline within frontends like the Jupyter notebook, directly below the code cell that produced it. The plots will be stored in the notebook document.\n",
    "\n",
    "import torch\n",
    "import torchvision\n",
    "from torch import nn\n",
    "\n",
    "import numpy \n",
    "import matplotlib.pyplot as plt\n",
    "import time"
   ]
  },
  {
   "cell_type": "markdown",
   "metadata": {},
   "source": [
    "## The MNIST dataset\n",
    "\n",
    "We will now download the dataset that contains handwritten digits. MNIST is a popular dataset, so we can download it via the PyTorch library. Note:\n",
    "- x is for the inputs (images of handwritten digits) and y is for the labels or outputs (digits 0-9)\n",
    "- We are given \"training\" and \"test\" datasets. Training datasets are used to fit the model. Test datasets are saved until the end, when we are satisfied with our model, to estimate how well our model generalizes to new data.\n",
    "\n",
    "Note that downloading it the first time might take some time.\n",
    "The data is split as follows:\n",
    "- 60,000 training examples, 10,000 test examples\n",
    "- inputs: 1 x 28 x 28 pixels\n",
    "- outputs (labels): one integer per example "
   ]
  },
  {
   "cell_type": "markdown",
   "metadata": {},
   "source": [
    "## MNIST Dataset Loading and Preprocessing\n",
    "\n",
    "The following code snippet is designed to load and preprocess the MNIST dataset. This process prepares the data for training and testing, specifically for image classification tasks. The torchvision library, which is part of the PyTorch ecosystem, provides convenient access to the MNIST dataset along with preprocessing utilities.\n",
    "\n",
    "### Key Parameters:\n",
    "\n",
    "- `root`: Specifies the directory where the dataset will be stored. If the dataset is not already present in this directory, it will be downloaded.\n",
    "- `train=True`: Indicates that we are fetching the training portion of the dataset.\n",
    "- `download=True`: Allows the dataset to be downloaded if it's not already available locally.\n",
    "- `transform=torchvision.transforms.ToTensor()`: Converts a PIL Image or a NumPy ndarray into a FloatTensor and scales the image's pixel intensity values in the range [0., 1.] for model training as PyTorch models operate on tensors.\n"
   ]
  },
  {
   "cell_type": "code",
   "execution_count": 4,
   "metadata": {},
   "outputs": [
    {
     "name": "stdout",
     "output_type": "stream",
     "text": [
      "Downloading http://yann.lecun.com/exdb/mnist/train-images-idx3-ubyte.gz\n",
      "Downloading http://yann.lecun.com/exdb/mnist/train-images-idx3-ubyte.gz to data/MNIST/raw/train-images-idx3-ubyte.gz\n"
     ]
    },
    {
     "name": "stderr",
     "output_type": "stream",
     "text": [
      "100%|██████████| 9912422/9912422 [00:00<00:00, 28751922.52it/s]\n"
     ]
    },
    {
     "name": "stdout",
     "output_type": "stream",
     "text": [
      "Extracting data/MNIST/raw/train-images-idx3-ubyte.gz to data/MNIST/raw\n",
      "\n",
      "Downloading http://yann.lecun.com/exdb/mnist/train-labels-idx1-ubyte.gz\n",
      "Downloading http://yann.lecun.com/exdb/mnist/train-labels-idx1-ubyte.gz to data/MNIST/raw/train-labels-idx1-ubyte.gz\n"
     ]
    },
    {
     "name": "stderr",
     "output_type": "stream",
     "text": [
      "100%|██████████| 28881/28881 [00:00<00:00, 41699034.02it/s]"
     ]
    },
    {
     "name": "stdout",
     "output_type": "stream",
     "text": [
      "Extracting data/MNIST/raw/train-labels-idx1-ubyte.gz to data/MNIST/raw\n",
      "\n",
      "Downloading http://yann.lecun.com/exdb/mnist/t10k-images-idx3-ubyte.gz\n",
      "Downloading http://yann.lecun.com/exdb/mnist/t10k-images-idx3-ubyte.gz to data/MNIST/raw/t10k-images-idx3-ubyte.gz\n"
     ]
    },
    {
     "name": "stderr",
     "output_type": "stream",
     "text": [
      "\n",
      "100%|██████████| 1648877/1648877 [00:00<00:00, 14673638.80it/s]\n"
     ]
    },
    {
     "name": "stdout",
     "output_type": "stream",
     "text": [
      "Extracting data/MNIST/raw/t10k-images-idx3-ubyte.gz to data/MNIST/raw\n",
      "\n",
      "Downloading http://yann.lecun.com/exdb/mnist/t10k-labels-idx1-ubyte.gz\n",
      "Downloading http://yann.lecun.com/exdb/mnist/t10k-labels-idx1-ubyte.gz to data/MNIST/raw/t10k-labels-idx1-ubyte.gz\n"
     ]
    },
    {
     "name": "stderr",
     "output_type": "stream",
     "text": [
      "100%|██████████| 4542/4542 [00:00<00:00, 49481892.90it/s]\n"
     ]
    },
    {
     "name": "stdout",
     "output_type": "stream",
     "text": [
      "Extracting data/MNIST/raw/t10k-labels-idx1-ubyte.gz to data/MNIST/raw\n",
      "\n"
     ]
    }
   ],
   "source": [
    "# Load and transform the training data\n",
    "training_data = torchvision.datasets.MNIST(\n",
    "    root=\"data\",\n",
    "    train=True,\n",
    "    download=True,\n",
    "    transform=torchvision.transforms.ToTensor()\n",
    ")\n",
    "\n",
    "# Load and transform the test data\n",
    "# Similar to the training data loader but with 'train=False' to specify that we want to\n",
    "# load the test (or validation) portion of the MNIST dataset. This data is used to evaluate\n",
    "# the model's performance on unseen data, providing an estimate of its generalization ability.\n",
    "test_data = torchvision.datasets.MNIST(\n",
    "    root=\"data\",\n",
    "    train=False,\n",
    "    download=True,\n",
    "    transform=torchvision.transforms.ToTensor()\n",
    ")"
   ]
  },
  {
   "cell_type": "markdown",
   "metadata": {},
   "source": [
    "## Data Splitting Explained\n",
    "\n",
    "In machine learning projects, it's crucial to split your dataset into training and validation (or test) sets. This separation allows the model to learn from one subset of the data (training set) and then be evaluated on a separate subset (validation set) to check for overfitting, underfitting, and to generally assess the model's performance on unseen data.\n",
    "\n",
    "The following code snippet performs this splitting operation for a dataset, specifically using PyTorch's utilities. Let's break down the functionality and the purpose of each component in the code.\n",
    "\n",
    "### Understanding the Code\n",
    "\n",
    "We are using the `torch.utils.data.random_split` function to divide a dataset into non-overlapping new datasets of given lengths. Specifically, it splits the `training_data` into two parts: a larger portion for training and a smaller portion for validation. Additionally, it employs a random generator with a fixed seed for reproducibility of results.\n",
    "\n",
    "- `training_data, validation_data` are the new datasets obtained after splitting.\n",
    "- `torch.utils.data.random_split` is the function used for splitting the dataset.\n",
    "- `training_data` is the original dataset that we intend to split.\n",
    "- `[0.8, 0.2]` represents the proportions of the split. However, since `random_split` expects absolute numbers rather than proportions, these values should be calculated based on the actual size of `training_data`.\n",
    "- `generator=torch.Generator().manual_seed(55)` ensures that the random splitting of the dataset is reproducible. The seed `55` is used to initialize the random generator to a fixed state. You can choose any integer (also note that its not really random if its repeatable). \n"
   ]
  },
  {
   "cell_type": "code",
   "execution_count": 7,
   "metadata": {},
   "outputs": [],
   "source": [
    "total_size = len(training_data)  # Total size of the dataset\n",
    "\n",
    "# Calculate split sizes\n",
    "train_size = int(total_size * 0.8)  # 80% of the dataset for training\n",
    "validation_size = total_size - train_size  # Remaining 20% for validation\n",
    "\n",
    "# Split the dataset into training and validation sets\n",
    "training_data, validation_data = torch.utils.data.random_split(\n",
    "    training_data, [train_size, validation_size],\n",
    "    generator=torch.Generator().manual_seed(55)  # Ensure reproducibility\n",
    ")\n",
    "\n",
    "# 'training_data' now contains the training subset,\n",
    "# 'validation_data' contains the validation subset.\n"
   ]
  },
  {
   "cell_type": "markdown",
   "metadata": {},
   "source": [
    "## Understanding the Structure of our Datasets Current status\n",
    "\n",
    "The code consists of two print statements designed to output information about the MNIST dataset that has been split into training, validation, and test sets. Additionally, it prints the shape of the input data.\n",
    "\n",
    "1. **Dataset Size Information**:\n",
    "- The first print statement displays the number of examples in the training, validation, and test datasets. This is crucial for understanding the distribution of data and ensuring there's enough data for training and validation/testing.\n",
    "        \n",
    "2. **Input Shape Information**:\n",
    "- The second print statement reveals the shape of the input data by accessing the first example of the training dataset. This information is vital for configuring the input layer of your neural network and understanding the data's dimensions."
   ]
  },
  {
   "cell_type": "code",
   "execution_count": 9,
   "metadata": {},
   "outputs": [
    {
     "name": "stdout",
     "output_type": "stream",
     "text": [
      "MNIST data loaded: train: 30720 examples, validation: 7680 examples, test: 10000 examples\n",
      "Input shape: torch.Size([1, 28, 28])\n"
     ]
    }
   ],
   "source": [
    "# Print the size of training, validation, and test datasets\n",
    "print('MNIST data loaded: train:', len(training_data), 'examples,',\n",
    "      'validation:', len(validation_data), 'examples,',\n",
    "      'test:', len(test_data), 'examples')\n",
    "\n",
    "# Print the shape of the input data by accessing the first example in the training dataset\n",
    "# Note: training_data[0][0] accesses the first image tensor, and .shape retrieves its dimensions\n",
    "print('Input shape:', training_data[0][0].shape)\n"
   ]
  },
  {
   "cell_type": "markdown",
   "metadata": {},
   "source": [
    "### Visualizing MNIST Digits\n",
    "\n",
    "Here we inspect the first ten images of the MNIST dataset, showcasing the handwritten digits and their corresponding labels. In machine learning, especially in tasks involving images, visualizing your data is crucial for understanding the nature of the dataset you're working with. This visualization can help in examining the data's quality, understanding the variation within classes, and verifying the preprocessing steps. \n",
    "\n",
    "### Code Explanation\n",
    "\n",
    "The code aims to plot the first ten images from the `training_data` of the MNIST dataset, along with their corresponding labels (classes). Here's a breakdown of what each part does:\n",
    "\n",
    "1. **Setting Plot Size**:\n",
    "   - `pltsize=1`: This variable controls the overall figure size ratio.\n",
    "   \n",
    "2. **Creating Figure**:\n",
    "   - `plt.figure(figsize=(10*pltsize, pltsize))`: Initializes a new figure with a specific size. The figure's width is 10 times the `pltsize`, and its height is equal to `pltsize`, aiming to create a row of images. The use of `pltsize` here affects the overall figure size but not individual images directly.\n",
    "\n",
    "3. **Looping Through Images**:\n",
    "   - The loop `for i in range(10):` iterates through the first ten items in the `training_data`.\n",
    "   \n",
    "4. **Plotting Each Image**:\n",
    "   - Within the loop, `plt.subplot(1, 10, i+1)` creates a subplot for each image in a 1x10 grid.\n",
    "   - `plt.axis('off')` removes the axis for clarity.\n",
    "   - `plt.imshow(numpy.reshape(training_data[i][0], (28, 28)), cmap=\"gray\")` displays an image. The [`numpy.reshape` function](https://numpy.org/doc/stable/reference/generated/numpy.reshape.html) changes the shape of the image data to 28x28 pixels, and `cmap=\"gray\"` sets the colormap to grayscale.\n",
    "   - `plt.title('Class: '+str(training_data[i][1]))`: Adds a title to each subplot indicating the class of the digit.\n"
   ]
  },
  {
   "cell_type": "code",
   "execution_count": 10,
   "metadata": {},
   "outputs": [
    {
     "data": {
      "image/png": "[encoded data removed]",
      "text/plain": [
       "<Figure size 1000x100 with 10 Axes>"
      ]
     },
     "metadata": {},
     "output_type": "display_data"
    }
   ],
   "source": [
    "import matplotlib.pyplot as plt\n",
    "import numpy\n",
    "\n",
    "pltsize = 1\n",
    "# Initialize figure with dimensions proportional to the number of images\n",
    "plt.figure(figsize=(10*pltsize, pltsize))\n",
    "\n",
    "# Display the first 10 images from the training dataset\n",
    "for i in range(10):\n",
    "    plt.subplot(1, 10, i+1)  # Prepare subplot for the ith image\n",
    "    plt.axis('off')  # Hide the axis for a cleaner look\n",
    "    # Display the image, reshaping it to 28x28 pixels, in grayscale\n",
    "    plt.imshow(numpy.reshape(training_data[i][0], (28, 28)), cmap=\"gray\")\n",
    "    # Add a title with the class of the digit\n",
    "    plt.title('Class: '+str(training_data[i][1]))\n"
   ]
  },
  {
   "cell_type": "code",
   "execution_count": null,
   "metadata": {},
   "outputs": [],
   "source": [
    "import torch\n",
    "\n",
    "# Define the batch size for loading the data\n",
    "batch_size = 128\n",
    "\n",
    "# Initialize a DataLoader for the training dataset\n",
    "# This allows iterating over the dataset in batches of 128 samples, facilitating efficient training\n",
    "train_dataloader = torch.utils.data.DataLoader(training_data, batch_size=batch_size)\n",
    "\n",
    "# Similarly, initialize a DataLoader for the validation dataset\n",
    "# This enables efficient evaluation of the model on the validation set, also in batches of 128 samples\n",
    "val_dataloader = torch.utils.data.DataLoader(validation_data, batch_size=batch_size)\n"
   ]
  },
  {
   "cell_type": "markdown",
   "metadata": {},
   "source": [
    "# Generalities:\n",
    "To train our classifier, we need (besides the data):\n",
    "- A model that depend on parameters $\\mathbf{\\theta}$. Here we are going to use neural networks.\n",
    "- A loss function $J(\\mathbf{\\theta})$ to measure the capabilities of the model.\n",
    "- An optimization method."
   ]
  },
  {
   "cell_type": "markdown",
   "metadata": {},
   "source": [
    "# Linear Model\n",
    "Let's begin with a simple linear model: linear regression, like last week. \n",
    "We add one complication: each example is a vector (flattened image), so the \"slope\" multiplication becomes a dot product. If the target output is a vector as well, then the multiplication becomes matrix multiplication. \n",
    "\n",
    "Note, like before, we consider multiple examples at once, adding another dimension to the input. \n",
    "\n",
    "\n",
    " <img src=\"images/LinearModel_1.png\"  align=\"center\"/>\n",
    " \n",
    "\n",
    "\n",
    "The linear layers in PyTorch perform a basic $xW + b$. These \"fully connected\" layers connect each input to each output with some weight parameter. "
   ]
  },
  {
   "cell_type": "markdown",
   "metadata": {},
   "source": [
    "We wouldn't expect a simple linear model $f(x) = xW+b$ directly outputting the class label and minimizing mean squared error to work well - the model would output labels like 3.55 and 2.11 instead of skipping to integers.\n",
    "\n",
    "Let's make two changes that make more sense for classification:\n",
    "- Change the output to be a length-10 vector of class probabilities (0 to 1, adding to 1).\n",
    "- Cross entropy as the loss function, which is typical for classification. You can read more [here](https://gombru.github.io/2018/05/23/cross_entropy_loss/). "
   ]
  },
  {
   "cell_type": "code",
   "execution_count": null,
   "metadata": {},
   "outputs": [],
   "source": [
    "class LinearClassifier(nn.Module):\n",
    "\n",
    "    def __init__(self):\n",
    "        super().__init__()\n",
    "        \n",
    "        # First, we need to convert the input image to a vector by using \n",
    "        # nn.Flatten(). For MNIST, it means the second dimension 28*28 becomes 784.\n",
    "        self.flatten = nn.Flatten()\n",
    "        \n",
    "        # Here, we add a fully connected (\"dense\") layer that has 28 x 28 = 784 input nodes \n",
    "        #(one for each pixel in the input image) and 10 output nodes (for probabilities of each class).\n",
    "        self.layer_1 = nn.Linear(28*28, 10)\n",
    "        \n",
    "    def forward(self, x):\n",
    "\n",
    "        x = self.flatten(x)\n",
    "        x = self.layer_1(x)\n",
    "\n",
    "        return x"
   ]
  },
  {
   "cell_type": "markdown",
   "metadata": {},
   "source": [
    "We now need:\n",
    "- A loss function $J(\\theta)$ where $\\theta$ is the list of parameters (here W and b). Last week, we used mean squared error (MSE), but this time we're switching to cross entropy since it's classification.  \n",
    "\n",
    "- An optimization method or optimizer such as the stochastic gradient descent (sgd) method, the Adam optimizer, RMSprop, Adagrad etc. Let's start with stochastic gradient descent (sgd), like last week. For far more information about more advanced optimizers than basic SGD, with some cool animations, see https://ruder.io/optimizing-gradient-descent/ or https://distill.pub/2017/momentum/.\n",
    "\n",
    "- A learning rate. As we learned last week, the learning rate controls how far we move during each step. "
   ]
  },
  {
   "cell_type": "code",
   "execution_count": null,
   "metadata": {},
   "outputs": [],
   "source": [
    "linear_model = LinearClassifier()\n",
    "print(linear_model)\n",
    "\n",
    "loss_fn = nn.CrossEntropyLoss()\n",
    "optimizer = torch.optim.SGD(linear_model.parameters(), lr=0.01)"
   ]
  },
  {
   "cell_type": "markdown",
   "metadata": {},
   "source": [
    "# Learning\n",
    "Now we are ready to train our first model. A training step is comprised of:\n",
    "- A forward pass: the input is passed through the network\n",
    "- Backpropagation: A backward pass to compute the gradient $\\frac{\\partial J}{\\partial \\mathbf{W}}$ of the loss function with respect to the parameters of the network.\n",
    "- Weight updates $\\mathbf{W} = \\mathbf{W} - \\alpha \\frac{\\partial J}{\\partial \\mathbf{W}} $ where $\\alpha$ is the learning rate.\n",
    "\n",
    "How many steps do we take?\n",
    "- The batch size corresponds to the number of training examples in one pass (forward + backward). A smaller batch size allows the model to learn from individual examples but takes longer to train. A larger batch size requires fewer steps but may result in the model not capturing the nuances in the data. The higher the batch size, the more memory you will require.  \n",
    "- An epoch means one pass through the whole training data (looping over the batches). Using few epochs can lead to underfitting and using too many can lead to overfitting.\n",
    "- The choice of batch size and learning rate are important for performance, generalization and accuracy in deep learning.\n",
    "\n",
    "\n",
    "\n",
    "\n"
   ]
  },
  {
   "cell_type": "code",
   "execution_count": null,
   "metadata": {},
   "outputs": [],
   "source": [
    "def train_one_epoch(dataloader, model, loss_fn, optimizer):\n",
    "    model.train()\n",
    "    for batch, (X, y) in enumerate(dataloader):\n",
    "        # forward pass\n",
    "        pred = model(X)\n",
    "        loss = loss_fn(pred, y)\n",
    "        \n",
    "        # backward pass calculates gradients\n",
    "        loss.backward()\n",
    "        \n",
    "        # take one step with these gradients\n",
    "        optimizer.step()\n",
    "        \n",
    "        # resets the gradients \n",
    "        optimizer.zero_grad()"
   ]
  },
  {
   "cell_type": "code",
   "execution_count": null,
   "metadata": {},
   "outputs": [],
   "source": [
    "def evaluate(dataloader, model, loss_fn):\n",
    "    # Set the model to evaluation mode - some NN pieces behave differently during training\n",
    "    # Unnecessary in this situation but added for best practices\n",
    "    model.eval()\n",
    "    size = len(dataloader.dataset)\n",
    "    num_batches = len(dataloader)\n",
    "    loss, correct = 0, 0\n",
    "\n",
    "    # We can save computation and memory by not calculating gradients here - we aren't optimizing \n",
    "    with torch.no_grad():\n",
    "        # loop over all of the batches\n",
    "        for X, y in dataloader:\n",
    "            pred = model(X)\n",
    "            loss += loss_fn(pred, y).item()\n",
    "            # how many are correct in this batch? Tracking for accuracy \n",
    "            correct += (pred.argmax(1) == y).type(torch.float).sum().item()\n",
    "\n",
    "    loss /= num_batches\n",
    "    correct /= size\n",
    "    \n",
    "    accuracy = 100*correct\n",
    "    return accuracy, loss"
   ]
  },
  {
   "cell_type": "code",
   "execution_count": null,
   "metadata": {},
   "outputs": [],
   "source": [
    "%%time\n",
    "\n",
    "epochs = 5\n",
    "for j in range(epochs):\n",
    "    train_one_epoch(train_dataloader, linear_model, loss_fn, optimizer)\n",
    "    \n",
    "    # checking on the training loss and accuracy once per epoch\n",
    "    acc, loss = evaluate(train_dataloader, linear_model, loss_fn)\n",
    "    print(f\"Epoch {j}: training loss: {loss}, accuracy: {acc}\")"
   ]
  },
  {
   "cell_type": "code",
   "execution_count": null,
   "metadata": {},
   "outputs": [],
   "source": [
    "# Visualize how the model is doing on the first 10 examples\n",
    "pltsize=1\n",
    "plt.figure(figsize=(10*pltsize, pltsize))\n",
    "linear_model.eval()\n",
    "batch = next(iter(train_dataloader))\n",
    "predictions = linear_model(batch[0])\n",
    "\n",
    "for i in range(10):\n",
    "    plt.subplot(1,10,i+1)\n",
    "    plt.axis('off')\n",
    "    plt.imshow(batch[0][i,0,:,:], cmap=\"gray\")\n",
    "    plt.title('%d' % predictions[i,:].argmax())"
   ]
  },
  {
   "cell_type": "markdown",
   "metadata": {},
   "source": [
    "Exercise: How can you improve the accuracy? Some things you might consider: increasing the number of epochs, changing the learning rate, etc. "
   ]
  },
  {
   "cell_type": "markdown",
   "metadata": {},
   "source": [
    "# Inference\n",
    "\n",
    "For a better measure of the quality of the model, let's see the model accuracy for the validation data.\n",
    "\n"
   ]
  },
  {
   "cell_type": "code",
   "execution_count": null,
   "metadata": {},
   "outputs": [],
   "source": [
    "acc_val, loss_val = evaluate(val_dataloader, linear_model, loss_fn)\n",
    "print(\"Validation loss: %.4f, validation accuracy: %.2f%%\" % (loss_val, acc_val))"
   ]
  },
  {
   "cell_type": "markdown",
   "metadata": {},
   "source": [
    "We can now take a closer look at the results.\n",
    "\n",
    "Let's define a helper function to show the failure cases of our classifier."
   ]
  },
  {
   "cell_type": "code",
   "execution_count": null,
   "metadata": {},
   "outputs": [],
   "source": [
    "def show_failures(model, dataloader, maxtoshow=10):\n",
    "    model.eval()\n",
    "    batch = next(iter(dataloader))\n",
    "    predictions = model(batch[0])\n",
    "    \n",
    "    rounded = predictions.argmax(1)\n",
    "    errors = rounded!=batch[1]\n",
    "    print('Showing max', maxtoshow, 'first failures. '\n",
    "          'The predicted class is shown first and the correct class in parentheses.')\n",
    "    ii = 0\n",
    "    plt.figure(figsize=(maxtoshow, 1))\n",
    "    for i in range(batch[0].shape[0]):\n",
    "        if ii>=maxtoshow:\n",
    "            break\n",
    "        if errors[i]:\n",
    "            plt.subplot(1, maxtoshow, ii+1)\n",
    "            plt.axis('off')\n",
    "            plt.imshow(batch[0][i,0,:,:], cmap=\"gray\")\n",
    "            plt.title(\"%d (%d)\" % (rounded[i], batch[1][i]))\n",
    "            ii = ii + 1"
   ]
  },
  {
   "cell_type": "markdown",
   "metadata": {},
   "source": [
    "Here are the first 10 images from the validation data that this small model classified to a wrong class:\n",
    "\n"
   ]
  },
  {
   "cell_type": "code",
   "execution_count": null,
   "metadata": {},
   "outputs": [],
   "source": [
    "show_failures(linear_model, val_dataloader)"
   ]
  },
  {
   "cell_type": "markdown",
   "metadata": {},
   "source": [
    "<!-- # Exercise:\n",
    "- Try changing the loss function,\n",
    "- Try changing the optimizer -->"
   ]
  },
  {
   "cell_type": "markdown",
   "metadata": {},
   "source": [
    "# Multilayer Model\n",
    "Our linear model isn't enough for high accuracy on this dataset. To improve the model, we often need to add more layers and nonlinearities.\n",
    "<img src=\"images/shallow_nn.png\"  align=\"left\"/>\n",
    "\n",
    "The output of this NN can be written as\n",
    "\\begin{equation}\\label{eq: NN1d}\n",
    "  \\hat{u}(x) = \\sigma_2(\\sigma_1(\\mathbf{x}\\mathbf{W}_1 + \\mathbf{b}_1)\\mathbf{W}_2 + \\mathbf{b}_2),\n",
    "\\end{equation}\n",
    "where $\\mathbf{x}$ is the input, $\\mathbf{W}_j$ are the weights of the neural network, $\\sigma_j$ the (nonlinear) activation functions, and $\\mathbf{b}_j$ its biases. The activation function introduces the nonlinearity and makes it possible to learn more complex tasks. Desirable properties in an activation function include being differentiable, bounded, and monotonic.\n",
    "\n",
    "\n",
    "Image source: [PragatiBaheti](https://www.v7labs.com/blog/neural-networks-activation-functions)\n",
    "<img src=\"images/activation.jpeg\"  align=\"center\"/>\n",
    "\n",
    "Adding more layers to obtain a deep neural network:\n",
    "<img src=\"images/deep_nn.png\"  align=\"left\"/>\n",
    "\n",
    "\n",
    "\n",
    "# Important things to know\n",
    "Deep Neural networks can be overly flexible/complicated and \"overfit\" your data, just like fitting overly complicated polynomials:\n",
    "<img src=\"images/bias_vs_variance.png\"  align=\"left\"/>\n",
    "\n",
    "To improve the generalization of our model on previously unseen data, we employ a technique known as regularization, which constrains our optimization problem in order to discourage complex models.\n",
    "\n",
    "  - Dropout is the commonly used regularization technique. The Dropout layer randomly sets input units to 0 with a frequency of rate at each step during training time, which helps prevent overfitting.\n",
    "  - Penalizing the loss function by adding a term such as $\\lambda ||\\mathbf{W}||^2$ is alsp a commonly used regularization technique. This helps \"control\" the magnitude of the weights of the network.\n",
    "    \n",
    "<!--  <img src=\"images/test_data_rule.png\" width=\"800\" hight=\"500\" align=\"center\"/>\n",
    "  -->"
   ]
  },
  {
   "cell_type": "markdown",
   "metadata": {},
   "source": [
    "We can now implement a deep network in PyTorch. nn.Dropout() performs the Dropout operation mentioned earlier"
   ]
  },
  {
   "cell_type": "code",
   "execution_count": null,
   "metadata": {},
   "outputs": [],
   "source": [
    "class NonlinearClassifier(nn.Module):\n",
    "\n",
    "    def __init__(self):\n",
    "        super().__init__()\n",
    "        self.flatten = nn.Flatten()\n",
    "        self.layers_stack = nn.Sequential(\n",
    "            nn.Linear(28*28, 50),\n",
    "            nn.ReLU(),\n",
    "            #nn.Dropout(0.2),\n",
    "            nn.Linear(50, 50),\n",
    "            nn.ReLU(),\n",
    "            #nn.Dropout(0.2),\n",
    "            nn.Linear(50, 10)\n",
    "        )\n",
    "        \n",
    "    def forward(self, x):\n",
    "        x = self.flatten(x)\n",
    "        x = self.layers_stack(x)\n",
    "\n",
    "        return x"
   ]
  },
  {
   "cell_type": "markdown",
   "metadata": {},
   "source": [
    "# Homework: train a Nonlinear Classifier"
   ]
  },
  {
   "cell_type": "markdown",
   "metadata": {},
   "source": [
    "1. Write some code to train the NonlinearClassifier.\n",
    "2. Create a data loader for the test data and check your model's accuracy on the test data. \n",
    "\n",
    "If you have time, experiment with how to improve the model. Note: training and validation data can be used to compare models, but test data should be saved until the end as a final check of generalization. "
   ]
  },
  {
   "cell_type": "markdown",
   "metadata": {},
   "source": [
    "# JupyterHub Reminder"
   ]
  },
  {
   "cell_type": "markdown",
   "metadata": {},
   "source": [
    "From [Homework 0](https://github.com/argonne-lcf/ai-science-training-series/blob/main/00_introToAlcf/02_jupyterNotebooks.md): \"If you simply close your browser window, or logout without shutting down the jupyter server, your job will continue to occupy the worker node. Be considerate and shutdown your job when you finish.\"\n",
    "\n",
    "File --> Hub Control Panel --> Stop my server"
   ]
  },
  {
   "cell_type": "code",
   "execution_count": null,
   "metadata": {},
   "outputs": [],
   "source": []
  }
 ],
 "metadata": {
  "kernelspec": {
   "display_name": "Python(TorchANI)",
   "language": "python",
   "name": "torchani"
  },
  "language_info": {
   "codemirror_mode": {
    "name": "ipython",
    "version": 3
   },
   "file_extension": ".py",
   "mimetype": "text/x-python",
   "name": "python",
   "nbconvert_exporter": "python",
   "pygments_lexer": "ipython3",
   "version": "3.10.8"
  }
 },
 "nbformat": 4,
 "nbformat_minor": 4
}
